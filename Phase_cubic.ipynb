{
 "cells": [
  {
   "cell_type": "code",
   "execution_count": 2,
   "metadata": {},
   "outputs": [],
   "source": [
    "import numpy as np\n",
    "import matplotlib.pyplot as plt\n",
    "import pandas as pd\n",
    "import os, re\n",
    "from tensorflow.keras import layers, models, regularizers\n",
    "from sklearn.model_selection import train_test_split, cross_val_score, StratifiedKFold\n",
    "from sklearn import metrics, preprocessing\n",
    "from keras.utils.np_utils import to_categorical\n",
    "from sklearn.utils import shuffle"
   ]
  },
  {
   "cell_type": "code",
   "execution_count": 3,
   "metadata": {},
   "outputs": [],
   "source": [
    "train_df = pd.read_csv('training_dataset_cubic_phase.csv', sep='\\t')\n",
    "test_df = pd.read_csv('phase_test.csv', sep='\\t')"
   ]
  },
  {
   "cell_type": "code",
   "execution_count": 7,
   "metadata": {},
   "outputs": [],
   "source": [
    "X_test = test_df[[\"0\", \"1\", \"2\", \"3\",\"4\", \"5\", \"6\", \"7\"]]\n",
    "y_test = test_df['name']"
   ]
  },
  {
   "cell_type": "code",
   "execution_count": 9,
   "metadata": {},
   "outputs": [
    {
     "data": {
      "text/plain": [
       "(3636, 8)"
      ]
     },
     "execution_count": 9,
     "metadata": {},
     "output_type": "execute_result"
    }
   ],
   "source": [
    "np.shape(train_df[[\"peak_1\", \"peak_2\", \"peak_3\", \"peak_4\",\"peak_5\", \"peak_6\", \"peak_7\", \"peak_8\"]])"
   ]
  },
  {
   "cell_type": "code",
   "execution_count": 10,
   "metadata": {},
   "outputs": [
    {
     "data": {
      "text/plain": [
       "(3, 8)"
      ]
     },
     "execution_count": 10,
     "metadata": {},
     "output_type": "execute_result"
    }
   ],
   "source": [
    "np.shape(X_test)"
   ]
  },
  {
   "cell_type": "code",
   "execution_count": 55,
   "metadata": {},
   "outputs": [],
   "source": [
    "X_test_re = X_test.values.reshape(3,8,1)"
   ]
  },
  {
   "cell_type": "code",
   "execution_count": 14,
   "metadata": {},
   "outputs": [],
   "source": [
    "encoder = preprocessing.LabelEncoder()\n",
    "encoder.fit(y_test)\n",
    "encoded_y = encoder.transform(y_test)"
   ]
  },
  {
   "cell_type": "code",
   "execution_count": 35,
   "metadata": {},
   "outputs": [],
   "source": [
    "training_data = shuffle(train_df)\n",
    "\n",
    "X = training_data[[\"peak_1\", \"peak_2\", \"peak_3\", \"peak_4\",\"peak_5\", \"peak_6\", \"peak_7\", \"peak_8\"]]\n",
    "y = training_data[\"names\"]"
   ]
  },
  {
   "cell_type": "code",
   "execution_count": 37,
   "metadata": {},
   "outputs": [],
   "source": [
    "X_re = X.values.reshape(3636,8,1)"
   ]
  },
  {
   "cell_type": "code",
   "execution_count": 38,
   "metadata": {},
   "outputs": [],
   "source": [
    "train_features, test_features, train_labels, test_labels = train_test_split(X_re, \n",
    "                                                        y, \n",
    "                                                        test_size=0.25, \n",
    "                                                        random_state=42)"
   ]
  },
  {
   "cell_type": "code",
   "execution_count": 45,
   "metadata": {},
   "outputs": [],
   "source": [
    "encoder.fit(train_labels)\n",
    "encoded_train_labels = encoder.transform(train_labels)\n",
    "encoder.fit(test_labels)\n",
    "encoded_test_labels = encoder.transform(test_labels)"
   ]
  },
  {
   "cell_type": "code",
   "execution_count": 46,
   "metadata": {
    "scrolled": true
   },
   "outputs": [],
   "source": [
    "X_val = train_features[:500]\n",
    "partial_X_train = train_features[500:]\n",
    "y_val = encoded_train_labels[:500]\n",
    "partial_y_train = encoded_train_labels[500:]"
   ]
  },
  {
   "cell_type": "code",
   "execution_count": 50,
   "metadata": {},
   "outputs": [],
   "source": [
    "model = models.Sequential()\n",
    "model.add(layers.Conv1D(filters=20, kernel_size=5, strides=1, padding=\"same\", activation=\"relu\", input_shape=(8,1)))\n",
    "model.add(layers.MaxPooling1D(1))\n",
    "model.add(layers.Conv1D(filters=20, kernel_size=5, strides=1, padding=\"same\", activation=\"relu\"))\n",
    "model.add(layers.MaxPooling1D(1))\n",
    "model.add(layers.Flatten())\n",
    "model.add(layers.Dense(1, activation='sigmoid'))"
   ]
  },
  {
   "cell_type": "code",
   "execution_count": 52,
   "metadata": {},
   "outputs": [
    {
     "name": "stdout",
     "output_type": "stream",
     "text": [
      "Train on 2227 samples, validate on 500 samples\n",
      "Epoch 1/100\n",
      "2227/2227 [==============================] - 1s 348us/sample - loss: 0.2699 - accuracy: 0.9079 - val_loss: 0.2291 - val_accuracy: 0.8580\n",
      "Epoch 2/100\n",
      "2227/2227 [==============================] - 0s 210us/sample - loss: 0.1475 - accuracy: 0.9802 - val_loss: 0.1138 - val_accuracy: 0.9900\n",
      "Epoch 3/100\n",
      "2227/2227 [==============================] - 0s 197us/sample - loss: 0.1006 - accuracy: 0.9807 - val_loss: 0.0600 - val_accuracy: 1.0000\n",
      "Epoch 4/100\n",
      "2227/2227 [==============================] - 1s 248us/sample - loss: 0.0490 - accuracy: 0.9991 - val_loss: 0.0626 - val_accuracy: 0.9980\n",
      "Epoch 5/100\n",
      "2227/2227 [==============================] - 1s 233us/sample - loss: 0.0298 - accuracy: 1.0000 - val_loss: 0.0551 - val_accuracy: 0.9940\n",
      "Epoch 6/100\n",
      "2227/2227 [==============================] - 0s 220us/sample - loss: 0.0286 - accuracy: 0.9955 - val_loss: 0.0154 - val_accuracy: 1.0000\n",
      "Epoch 7/100\n",
      "2227/2227 [==============================] - 1s 249us/sample - loss: 0.0273 - accuracy: 0.9933 - val_loss: 0.0121 - val_accuracy: 1.0000\n",
      "Epoch 8/100\n",
      "2227/2227 [==============================] - 0s 203us/sample - loss: 0.0113 - accuracy: 1.0000 - val_loss: 0.0088 - val_accuracy: 1.0000\n",
      "Epoch 9/100\n",
      "2227/2227 [==============================] - 0s 172us/sample - loss: 0.0194 - accuracy: 0.9955 - val_loss: 0.0183 - val_accuracy: 1.0000\n",
      "Epoch 10/100\n",
      "2227/2227 [==============================] - 0s 200us/sample - loss: 0.0273 - accuracy: 0.9915 - val_loss: 0.0188 - val_accuracy: 1.0000\n",
      "Epoch 11/100\n",
      "2227/2227 [==============================] - 0s 192us/sample - loss: 0.0069 - accuracy: 1.0000 - val_loss: 0.0058 - val_accuracy: 1.0000\n",
      "Epoch 12/100\n",
      "2227/2227 [==============================] - ETA: 0s - loss: 0.0104 - accuracy: 0.99 - 0s 176us/sample - loss: 0.0098 - accuracy: 0.9996 - val_loss: 0.0050 - val_accuracy: 1.0000\n",
      "Epoch 13/100\n",
      "2227/2227 [==============================] - ETA: 0s - loss: 0.0085 - accuracy: 0.99 - 1s 247us/sample - loss: 0.0091 - accuracy: 0.9996 - val_loss: 0.0188 - val_accuracy: 1.0000\n",
      "Epoch 14/100\n",
      "2227/2227 [==============================] - ETA: 0s - loss: 0.0176 - accuracy: 0.99 - 1s 253us/sample - loss: 0.0182 - accuracy: 0.9955 - val_loss: 0.0039 - val_accuracy: 1.0000\n",
      "Epoch 15/100\n",
      "2227/2227 [==============================] - 0s 192us/sample - loss: 0.0048 - accuracy: 1.0000 - val_loss: 0.0062 - val_accuracy: 1.0000\n",
      "Epoch 16/100\n",
      "2227/2227 [==============================] - 0s 169us/sample - loss: 0.0263 - accuracy: 0.9910 - val_loss: 0.0524 - val_accuracy: 0.9700\n",
      "Epoch 17/100\n",
      "2227/2227 [==============================] - 0s 168us/sample - loss: 0.1661 - accuracy: 0.9722 - val_loss: 0.0207 - val_accuracy: 1.0000\n",
      "Epoch 18/100\n",
      "2227/2227 [==============================] - 0s 181us/sample - loss: 0.0156 - accuracy: 1.0000 - val_loss: 0.0142 - val_accuracy: 1.0000\n",
      "Epoch 19/100\n",
      "2227/2227 [==============================] - 0s 173us/sample - loss: 0.0127 - accuracy: 1.0000 - val_loss: 0.0139 - val_accuracy: 1.0000\n",
      "Epoch 20/100\n",
      "2227/2227 [==============================] - 0s 161us/sample - loss: 0.0100 - accuracy: 1.0000 - val_loss: 0.0087 - val_accuracy: 1.0000\n",
      "Epoch 21/100\n",
      "2227/2227 [==============================] - 0s 167us/sample - loss: 0.0107 - accuracy: 0.9996 - val_loss: 0.0077 - val_accuracy: 1.0000\n",
      "Epoch 22/100\n",
      "2227/2227 [==============================] - 0s 161us/sample - loss: 0.0083 - accuracy: 1.0000 - val_loss: 0.0136 - val_accuracy: 1.0000\n",
      "Epoch 23/100\n",
      "2227/2227 [==============================] - 0s 165us/sample - loss: 0.0061 - accuracy: 1.0000 - val_loss: 0.0062 - val_accuracy: 1.0000\n",
      "Epoch 24/100\n",
      "2227/2227 [==============================] - 0s 179us/sample - loss: 0.0124 - accuracy: 0.9982 - val_loss: 0.1003 - val_accuracy: 0.9580\n",
      "Epoch 25/100\n",
      "2227/2227 [==============================] - 0s 209us/sample - loss: 0.0611 - accuracy: 0.9825 - val_loss: 0.0063 - val_accuracy: 1.0000\n",
      "Epoch 26/100\n",
      "2227/2227 [==============================] - 0s 187us/sample - loss: 0.0057 - accuracy: 1.0000 - val_loss: 0.0054 - val_accuracy: 1.0000\n",
      "Epoch 27/100\n",
      "2227/2227 [==============================] - 0s 192us/sample - loss: 0.0057 - accuracy: 1.0000 - val_loss: 0.0049 - val_accuracy: 1.0000\n",
      "Epoch 28/100\n",
      "2227/2227 [==============================] - 1s 250us/sample - loss: 0.0063 - accuracy: 0.9991 - val_loss: 0.0945 - val_accuracy: 0.9480\n",
      "Epoch 29/100\n",
      "2227/2227 [==============================] - 1s 246us/sample - loss: 0.0047 - accuracy: 0.9996 - val_loss: 0.0038 - val_accuracy: 1.0000\n",
      "Epoch 30/100\n",
      "2227/2227 [==============================] - 1s 243us/sample - loss: 0.0085 - accuracy: 0.9969 - val_loss: 0.0437 - val_accuracy: 0.9880\n",
      "Epoch 31/100\n",
      "2227/2227 [==============================] - 0s 193us/sample - loss: 0.0121 - accuracy: 0.9969 - val_loss: 0.0028 - val_accuracy: 1.0000\n",
      "Epoch 32/100\n",
      "2227/2227 [==============================] - 0s 224us/sample - loss: 0.0044 - accuracy: 1.0000 - val_loss: 0.0029 - val_accuracy: 1.0000\n",
      "Epoch 33/100\n",
      "2227/2227 [==============================] - 0s 213us/sample - loss: 0.0344 - accuracy: 0.9865 - val_loss: 0.0050 - val_accuracy: 1.0000\n",
      "Epoch 34/100\n",
      "2227/2227 [==============================] - ETA: 0s - loss: 0.0136 - accuracy: 0.99 - 0s 222us/sample - loss: 0.0133 - accuracy: 0.9951 - val_loss: 0.0029 - val_accuracy: 1.0000\n",
      "Epoch 35/100\n",
      "2227/2227 [==============================] - 0s 193us/sample - loss: 0.0029 - accuracy: 1.0000 - val_loss: 0.0289 - val_accuracy: 0.9920\n",
      "Epoch 36/100\n",
      "2227/2227 [==============================] - 0s 183us/sample - loss: 0.0050 - accuracy: 0.9991 - val_loss: 0.0021 - val_accuracy: 1.0000\n",
      "Epoch 37/100\n",
      "2227/2227 [==============================] - 0s 163us/sample - loss: 0.0023 - accuracy: 1.0000 - val_loss: 0.0021 - val_accuracy: 1.0000\n",
      "Epoch 38/100\n",
      "2227/2227 [==============================] - 0s 214us/sample - loss: 0.0020 - accuracy: 1.0000 - val_loss: 0.0018 - val_accuracy: 1.0000\n",
      "Epoch 39/100\n",
      "2227/2227 [==============================] - 0s 215us/sample - loss: 0.0080 - accuracy: 0.9978 - val_loss: 0.0019 - val_accuracy: 1.0000\n",
      "Epoch 40/100\n",
      "2227/2227 [==============================] - 0s 177us/sample - loss: 0.0093 - accuracy: 0.9973 - val_loss: 0.0048 - val_accuracy: 1.0000\n",
      "Epoch 41/100\n",
      "2227/2227 [==============================] - 0s 159us/sample - loss: 0.0784 - accuracy: 0.9735 - val_loss: 0.0039 - val_accuracy: 1.0000\n",
      "Epoch 42/100\n",
      "2227/2227 [==============================] - 0s 167us/sample - loss: 0.0029 - accuracy: 1.0000 - val_loss: 0.0033 - val_accuracy: 1.0000\n",
      "Epoch 43/100\n",
      "2227/2227 [==============================] - 0s 160us/sample - loss: 0.0024 - accuracy: 1.0000 - val_loss: 0.0035 - val_accuracy: 1.0000\n",
      "Epoch 44/100\n",
      "2227/2227 [==============================] - 0s 169us/sample - loss: 0.0023 - accuracy: 1.0000 - val_loss: 0.0023 - val_accuracy: 1.0000\n",
      "Epoch 45/100\n",
      "2227/2227 [==============================] - 0s 203us/sample - loss: 0.0021 - accuracy: 1.0000 - val_loss: 0.0021 - val_accuracy: 1.0000\n",
      "Epoch 46/100\n",
      "2227/2227 [==============================] - 1s 243us/sample - loss: 0.0022 - accuracy: 1.0000 - val_loss: 0.0020 - val_accuracy: 1.0000\n",
      "Epoch 47/100\n",
      "2227/2227 [==============================] - 0s 205us/sample - loss: 0.0019 - accuracy: 1.0000 - val_loss: 0.0018 - val_accuracy: 1.0000\n",
      "Epoch 48/100\n",
      "2227/2227 [==============================] - 1s 257us/sample - loss: 0.0017 - accuracy: 1.0000 - val_loss: 0.0016 - val_accuracy: 1.0000\n",
      "Epoch 49/100\n",
      "2227/2227 [==============================] - 0s 220us/sample - loss: 0.0020 - accuracy: 1.0000 - val_loss: 0.0013 - val_accuracy: 1.0000\n",
      "Epoch 50/100\n",
      "2227/2227 [==============================] - 0s 188us/sample - loss: 0.0024 - accuracy: 0.9996 - val_loss: 0.0029 - val_accuracy: 1.0000\n",
      "Epoch 51/100\n",
      "2227/2227 [==============================] - 1s 243us/sample - loss: 0.0016 - accuracy: 1.0000 - val_loss: 0.0016 - val_accuracy: 1.0000\n",
      "Epoch 52/100\n",
      "2227/2227 [==============================] - 0s 192us/sample - loss: 0.0019 - accuracy: 1.0000 - val_loss: 0.0011 - val_accuracy: 1.0000\n",
      "Epoch 53/100\n",
      "2227/2227 [==============================] - 0s 173us/sample - loss: 0.0010 - accuracy: 1.0000 - val_loss: 0.0018 - val_accuracy: 1.0000\n",
      "Epoch 54/100\n"
     ]
    },
    {
     "name": "stdout",
     "output_type": "stream",
     "text": [
      "2227/2227 [==============================] - 0s 166us/sample - loss: 0.1246 - accuracy: 0.9726 - val_loss: 0.0100 - val_accuracy: 1.0000\n",
      "Epoch 55/100\n",
      "2227/2227 [==============================] - 0s 148us/sample - loss: 0.0064 - accuracy: 1.0000 - val_loss: 0.0066 - val_accuracy: 1.0000\n",
      "Epoch 56/100\n",
      "2227/2227 [==============================] - 0s 157us/sample - loss: 0.0049 - accuracy: 1.0000 - val_loss: 0.0050 - val_accuracy: 1.0000\n",
      "Epoch 57/100\n",
      "2227/2227 [==============================] - 0s 153us/sample - loss: 0.0046 - accuracy: 1.0000 - val_loss: 0.0044 - val_accuracy: 1.0000\n",
      "Epoch 58/100\n",
      "2227/2227 [==============================] - 0s 172us/sample - loss: 0.0036 - accuracy: 1.0000 - val_loss: 0.0047 - val_accuracy: 1.0000\n",
      "Epoch 59/100\n",
      "2227/2227 [==============================] - 0s 177us/sample - loss: 0.0038 - accuracy: 1.0000 - val_loss: 0.0035 - val_accuracy: 1.0000\n",
      "Epoch 60/100\n",
      "2227/2227 [==============================] - 0s 182us/sample - loss: 0.0037 - accuracy: 1.0000 - val_loss: 0.0031 - val_accuracy: 1.0000\n",
      "Epoch 61/100\n",
      "2227/2227 [==============================] - 0s 170us/sample - loss: 0.0028 - accuracy: 1.0000 - val_loss: 0.0094 - val_accuracy: 1.0000\n",
      "Epoch 62/100\n",
      "2227/2227 [==============================] - 0s 164us/sample - loss: 0.0028 - accuracy: 1.0000 - val_loss: 0.0030 - val_accuracy: 1.0000\n",
      "Epoch 63/100\n",
      "2227/2227 [==============================] - 0s 165us/sample - loss: 0.0022 - accuracy: 1.0000 - val_loss: 0.0024 - val_accuracy: 1.0000\n",
      "Epoch 64/100\n",
      "2227/2227 [==============================] - 0s 164us/sample - loss: 0.0515 - accuracy: 0.9798 - val_loss: 0.0050 - val_accuracy: 1.0000\n",
      "Epoch 65/100\n",
      "2227/2227 [==============================] - 0s 164us/sample - loss: 0.0027 - accuracy: 1.0000 - val_loss: 0.0027 - val_accuracy: 1.0000\n",
      "Epoch 66/100\n",
      "2227/2227 [==============================] - 0s 169us/sample - loss: 0.0025 - accuracy: 1.0000 - val_loss: 0.0026 - val_accuracy: 1.0000\n",
      "Epoch 67/100\n",
      "2227/2227 [==============================] - 0s 166us/sample - loss: 0.0026 - accuracy: 1.0000 - val_loss: 0.0023 - val_accuracy: 1.0000\n",
      "Epoch 68/100\n",
      "2227/2227 [==============================] - 0s 157us/sample - loss: 0.0019 - accuracy: 1.0000 - val_loss: 0.0043 - val_accuracy: 1.0000\n",
      "Epoch 69/100\n",
      "2227/2227 [==============================] - 0s 154us/sample - loss: 0.0017 - accuracy: 1.0000 - val_loss: 0.0019 - val_accuracy: 1.0000\n",
      "Epoch 70/100\n",
      "2227/2227 [==============================] - 0s 170us/sample - loss: 0.0019 - accuracy: 1.0000 - val_loss: 0.0016 - val_accuracy: 1.0000\n",
      "Epoch 71/100\n",
      "2227/2227 [==============================] - 0s 157us/sample - loss: 0.0015 - accuracy: 1.0000 - val_loss: 0.0015 - val_accuracy: 1.0000\n",
      "Epoch 72/100\n",
      "2227/2227 [==============================] - 0s 156us/sample - loss: 0.0014 - accuracy: 1.0000 - val_loss: 0.0019 - val_accuracy: 1.0000\n",
      "Epoch 73/100\n",
      "2227/2227 [==============================] - 0s 165us/sample - loss: 0.0015 - accuracy: 1.0000 - val_loss: 0.0012 - val_accuracy: 1.0000\n",
      "Epoch 74/100\n",
      "2227/2227 [==============================] - 0s 169us/sample - loss: 0.0133 - accuracy: 0.9960 - val_loss: 0.3320 - val_accuracy: 0.8620\n",
      "Epoch 75/100\n",
      "2227/2227 [==============================] - 0s 192us/sample - loss: 0.0508 - accuracy: 0.9879 - val_loss: 0.0024 - val_accuracy: 1.0000\n",
      "Epoch 76/100\n",
      "2227/2227 [==============================] - 0s 155us/sample - loss: 0.0020 - accuracy: 1.0000 - val_loss: 0.0023 - val_accuracy: 1.0000\n",
      "Epoch 77/100\n",
      "2227/2227 [==============================] - 0s 171us/sample - loss: 0.0018 - accuracy: 1.0000 - val_loss: 0.0019 - val_accuracy: 1.0000\n",
      "Epoch 78/100\n",
      "2227/2227 [==============================] - 0s 177us/sample - loss: 0.0015 - accuracy: 1.0000 - val_loss: 0.0014 - val_accuracy: 1.0000\n",
      "Epoch 79/100\n",
      "2227/2227 [==============================] - 0s 177us/sample - loss: 0.0014 - accuracy: 1.0000 - val_loss: 0.0014 - val_accuracy: 1.0000\n",
      "Epoch 80/100\n",
      "2227/2227 [==============================] - 1s 228us/sample - loss: 0.0012 - accuracy: 1.0000 - val_loss: 0.0012 - val_accuracy: 1.0000\n",
      "Epoch 81/100\n",
      "2227/2227 [==============================] - 1s 293us/sample - loss: 0.0011 - accuracy: 1.0000 - val_loss: 0.0011 - val_accuracy: 1.0000\n",
      "Epoch 82/100\n",
      "2227/2227 [==============================] - 0s 205us/sample - loss: 0.0010 - accuracy: 1.0000 - val_loss: 0.0014 - val_accuracy: 1.0000\n",
      "Epoch 83/100\n",
      "2227/2227 [==============================] - 0s 166us/sample - loss: 0.0011 - accuracy: 1.0000 - val_loss: 0.0012 - val_accuracy: 1.0000\n",
      "Epoch 84/100\n",
      "2227/2227 [==============================] - 0s 162us/sample - loss: 0.0025 - accuracy: 0.9991 - val_loss: 0.0018 - val_accuracy: 1.0000\n",
      "Epoch 85/100\n",
      "2227/2227 [==============================] - 0s 173us/sample - loss: 9.4813e-04 - accuracy: 1.0000 - val_loss: 7.8629e-04 - val_accuracy: 1.0000\n",
      "Epoch 86/100\n",
      "2227/2227 [==============================] - 1s 287us/sample - loss: 9.3141e-04 - accuracy: 1.0000 - val_loss: 0.0023 - val_accuracy: 1.0000\n",
      "Epoch 87/100\n",
      "2227/2227 [==============================] - 1s 285us/sample - loss: 0.0012 - accuracy: 1.0000 - val_loss: 8.0521e-04 - val_accuracy: 1.0000\n",
      "Epoch 88/100\n",
      "2227/2227 [==============================] - 1s 257us/sample - loss: 5.8041e-04 - accuracy: 1.0000 - val_loss: 6.0318e-04 - val_accuracy: 1.0000\n",
      "Epoch 89/100\n",
      "2227/2227 [==============================] - 0s 171us/sample - loss: 0.1294 - accuracy: 0.9726 - val_loss: 0.0063 - val_accuracy: 1.0000\n",
      "Epoch 90/100\n",
      "2227/2227 [==============================] - 1s 297us/sample - loss: 0.0047 - accuracy: 1.0000 - val_loss: 0.0046 - val_accuracy: 1.0000\n",
      "Epoch 91/100\n",
      "2227/2227 [==============================] - 0s 224us/sample - loss: 0.0037 - accuracy: 1.0000 - val_loss: 0.0041 - val_accuracy: 1.0000\n",
      "Epoch 92/100\n",
      "2227/2227 [==============================] - 0s 168us/sample - loss: 0.0033 - accuracy: 1.0000 - val_loss: 0.0036 - val_accuracy: 1.0000\n",
      "Epoch 93/100\n",
      "2227/2227 [==============================] - 0s 159us/sample - loss: 0.0030 - accuracy: 1.0000 - val_loss: 0.0032 - val_accuracy: 1.0000\n",
      "Epoch 94/100\n",
      "2227/2227 [==============================] - 0s 165us/sample - loss: 0.0029 - accuracy: 1.0000 - val_loss: 0.0030 - val_accuracy: 1.0000\n",
      "Epoch 95/100\n",
      "2227/2227 [==============================] - 0s 184us/sample - loss: 0.0025 - accuracy: 1.0000 - val_loss: 0.0034 - val_accuracy: 1.0000\n",
      "Epoch 96/100\n",
      "2227/2227 [==============================] - 1s 239us/sample - loss: 0.0024 - accuracy: 1.0000 - val_loss: 0.0026 - val_accuracy: 1.0000\n",
      "Epoch 97/100\n",
      "2227/2227 [==============================] - 1s 312us/sample - loss: 0.0023 - accuracy: 1.0000 - val_loss: 0.0023 - val_accuracy: 1.0000\n",
      "Epoch 98/100\n",
      "2227/2227 [==============================] - 1s 239us/sample - loss: 0.0026 - accuracy: 1.0000 - val_loss: 0.0020 - val_accuracy: 1.0000\n",
      "Epoch 99/100\n",
      "2227/2227 [==============================] - 0s 177us/sample - loss: 0.0016 - accuracy: 1.0000 - val_loss: 0.0017 - val_accuracy: 1.0000\n",
      "Epoch 100/100\n",
      "2227/2227 [==============================] - 0s 163us/sample - loss: 0.0014 - accuracy: 1.0000 - val_loss: 0.0018 - val_accuracy: 1.0000\n"
     ]
    }
   ],
   "source": [
    "model.compile(loss='binary_crossentropy', optimizer='adam', metrics=['accuracy'])\n",
    "\n",
    "history = model.fit(partial_X_train, partial_y_train, epochs=100, batch_size=10, validation_data=(X_val, y_val))"
   ]
  },
  {
   "cell_type": "code",
   "execution_count": 56,
   "metadata": {},
   "outputs": [
    {
     "name": "stdout",
     "output_type": "stream",
     "text": [
      "\r",
      "3/3 [==============================] - 0s 0s/sample - loss: 2.5374e-04 - accuracy: 1.0000\n"
     ]
    },
    {
     "data": {
      "text/plain": [
       "[0.0002537441614549607, 1.0]"
      ]
     },
     "execution_count": 56,
     "metadata": {},
     "output_type": "execute_result"
    }
   ],
   "source": [
    "model.evaluate(X_test_re, encoded_y)"
   ]
  },
  {
   "cell_type": "code",
   "execution_count": 60,
   "metadata": {},
   "outputs": [
    {
     "name": "stdout",
     "output_type": "stream",
     "text": [
      "Model: \"sequential_4\"\n",
      "_________________________________________________________________\n",
      "Layer (type)                 Output Shape              Param #   \n",
      "=================================================================\n",
      "conv1d_6 (Conv1D)            (None, 8, 20)             120       \n",
      "_________________________________________________________________\n",
      "max_pooling1d_6 (MaxPooling1 (None, 8, 20)             0         \n",
      "_________________________________________________________________\n",
      "conv1d_7 (Conv1D)            (None, 8, 20)             2020      \n",
      "_________________________________________________________________\n",
      "max_pooling1d_7 (MaxPooling1 (None, 8, 20)             0         \n",
      "_________________________________________________________________\n",
      "flatten_3 (Flatten)          (None, 160)               0         \n",
      "_________________________________________________________________\n",
      "dense_3 (Dense)              (None, 1)                 161       \n",
      "=================================================================\n",
      "Total params: 2,301\n",
      "Trainable params: 2,301\n",
      "Non-trainable params: 0\n",
      "_________________________________________________________________\n"
     ]
    }
   ],
   "source": [
    "model.summary()"
   ]
  },
  {
   "cell_type": "code",
   "execution_count": 57,
   "metadata": {},
   "outputs": [
    {
     "data": {
      "image/png": "[encoded data removed]",
      "text/plain": [
       "<Figure size 432x288 with 1 Axes>"
      ]
     },
     "metadata": {
      "needs_background": "light"
     },
     "output_type": "display_data"
    }
   ],
   "source": [
    "loss = history.history['loss']\n",
    "val_loss = history.history['val_loss']\n",
    "epochs = range(1, len(loss) + 1)\n",
    "plt.plot(epochs, loss, 'bo', label='Veszteség a tréning adaton')\n",
    "plt.plot(epochs, val_loss, 'b', label='Veszteség a validációs adaton')\n",
    "plt.title('Veszteségek')\n",
    "plt.xlabel('Epokok száma')\n",
    "plt.ylabel('Veszteség')\n",
    "plt.legend()\n",
    "plt.savefig(\"loss_phase_cubic\")\n",
    "plt.show()"
   ]
  },
  {
   "cell_type": "code",
   "execution_count": 58,
   "metadata": {},
   "outputs": [
    {
     "data": {
      "image/png": "[encoded data removed]",
      "text/plain": [
       "<Figure size 432x288 with 1 Axes>"
      ]
     },
     "metadata": {
      "needs_background": "light"
     },
     "output_type": "display_data"
    }
   ],
   "source": [
    "acc = history.history['accuracy']\n",
    "val_acc = history.history['val_accuracy']\n",
    "epochs = range(1, len(loss) + 1)\n",
    "plt.plot(epochs, acc, 'bo', label='Pontosság a tréning adaton')\n",
    "plt.plot(epochs, val_acc, 'b', label='Pontosság a validációs adaton')\n",
    "plt.title('Pontosság')\n",
    "plt.xlabel('Epokok szám')\n",
    "plt.ylabel('Pontosság')\n",
    "plt.legend()\n",
    "plt.savefig(\"acc_phase_cubic\")\n",
    "plt.show()"
   ]
  },
  {
   "cell_type": "code",
   "execution_count": 59,
   "metadata": {},
   "outputs": [
    {
     "data": {
      "image/png": "[encoded data removed]",
      "text/plain": [
       "<Figure size 720x720 with 2 Axes>"
      ]
     },
     "metadata": {
      "needs_background": "light"
     },
     "output_type": "display_data"
    }
   ],
   "source": [
    "fig, (ax1, ax2) = plt.subplots(2,figsize=(10,10))\n",
    "ax1.plot(epochs, acc, 'bo', label='Pontosság a tréning adaton')\n",
    "ax1.plot(epochs, val_acc, 'b', label='Pontosság a validációs adaton')\n",
    "ax1.set_ylabel('Pontosság')\n",
    "ax1.legend()\n",
    "ax2.plot(epochs, loss, 'bo', label='Veszteség a tréning adaton')\n",
    "ax2.plot(epochs, val_loss, 'b', label='Veszteség a validációs adaton')\n",
    "ax2.set_xlabel('Epok szám')\n",
    "ax2.set_ylabel('Veszteség')\n",
    "ax2.legend()\n",
    "plt.savefig('phase_one')"
   ]
  },
  {
   "cell_type": "code",
   "execution_count": null,
   "metadata": {},
   "outputs": [],
   "source": []
  }
 ],
 "metadata": {
  "kernelspec": {
   "display_name": "Python 3",
   "language": "python",
   "name": "python3"
  },
  "language_info": {
   "codemirror_mode": {
    "name": "ipython",
    "version": 3
   },
   "file_extension": ".py",
   "mimetype": "text/x-python",
   "name": "python",
   "nbconvert_exporter": "python",
   "pygments_lexer": "ipython3",
   "version": "3.7.4"
  }
 },
 "nbformat": 4,
 "nbformat_minor": 2
}
