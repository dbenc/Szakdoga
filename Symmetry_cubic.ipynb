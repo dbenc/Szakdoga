{
 "cells": [
  {
   "cell_type": "code",
   "execution_count": 25,
   "metadata": {},
   "outputs": [],
   "source": [
    "import numpy as np\n",
    "import matplotlib.pyplot as plt\n",
    "import pandas as pd\n",
    "import os, re\n",
    "import tensorflow as tf\n",
    "from tensorflow.keras import layers, models, regularizers\n",
    "from sklearn.model_selection import train_test_split, cross_val_score, StratifiedKFold\n",
    "from sklearn import metrics, preprocessing\n",
    "from sklearn.utils import shuffle\n",
    "from tensorflow.keras import utils as np_utils"
   ]
  },
  {
   "cell_type": "code",
   "execution_count": 2,
   "metadata": {},
   "outputs": [],
   "source": [
    "train_df = pd.read_csv('training_dataset_cubic_big.csv', sep='\\t')"
   ]
  },
  {
   "cell_type": "code",
   "execution_count": 3,
   "metadata": {},
   "outputs": [],
   "source": [
    "peaks = train_df[[\"peak_1\", \"peak_2\", \"peak_3\", \"peak_4\",\"peak_5\", \"peak_6\", \"peak_7\", \"peak_8\", \"peak_9\", \"peak_10\"]]\n",
    "code = train_df['space_code']"
   ]
  },
  {
   "cell_type": "code",
   "execution_count": 4,
   "metadata": {},
   "outputs": [],
   "source": [
    "training_data = pd.concat([peaks, code], axis=1)"
   ]
  },
  {
   "cell_type": "code",
   "execution_count": 5,
   "metadata": {},
   "outputs": [],
   "source": [
    "training_data = shuffle(training_data)"
   ]
  },
  {
   "cell_type": "code",
   "execution_count": 6,
   "metadata": {},
   "outputs": [],
   "source": [
    "X = training_data.drop([\"space_code\"], axis=1)\n",
    "y = training_data[\"space_code\"]"
   ]
  },
  {
   "cell_type": "code",
   "execution_count": 7,
   "metadata": {},
   "outputs": [],
   "source": [
    "train_data, test_data, train_labels, test_labels = train_test_split(X, \n",
    "                                                    y, \n",
    "                                                    test_size=0.33, \n",
    "                                                    random_state=42)"
   ]
  },
  {
   "cell_type": "code",
   "execution_count": 8,
   "metadata": {},
   "outputs": [],
   "source": [
    "one_hot_train_labels = np_utils.to_categorical(train_labels)\n",
    "one_hot_test_labels = np_utils.to_categorical(test_labels)\n",
    "    \n",
    "X_val = train_data[:10000]\n",
    "partial_X_train = train_data[10000:]\n",
    "y_val = one_hot_train_labels[:10000]\n",
    "partial_y_train = one_hot_train_labels[10000:]"
   ]
  },
  {
   "cell_type": "code",
   "execution_count": 9,
   "metadata": {},
   "outputs": [],
   "source": [
    "model = models.Sequential()\n",
    "model.add(layers.Dense(500, kernel_regularizer=regularizers.l2(0.0001), activation='relu', input_dim=10))\n",
    "model.add(layers.Dropout(0.5))\n",
    "model.add(layers.Dense(128, kernel_regularizer=regularizers.l2(0.0001), activation='relu'))\n",
    "model.add(layers.Dropout(0.5))\n",
    "model.add(layers.Dense(6, activation='softmax'))"
   ]
  },
  {
   "cell_type": "code",
   "execution_count": 10,
   "metadata": {},
   "outputs": [
    {
     "name": "stdout",
     "output_type": "stream",
     "text": [
      "Train on 41641 samples, validate on 10000 samples\n",
      "Epoch 1/10\n",
      "41641/41641 [==============================] - 8s 184us/sample - loss: 0.6194 - accuracy: 0.8015 - val_loss: 0.1488 - val_accuracy: 0.9746\n",
      "Epoch 2/10\n",
      "41641/41641 [==============================] - 5s 129us/sample - loss: 0.1358 - accuracy: 0.9647 - val_loss: 0.0466 - val_accuracy: 1.0000\n",
      "Epoch 3/10\n",
      "41641/41641 [==============================] - 5s 127us/sample - loss: 0.0677 - accuracy: 0.9900 - val_loss: 0.0347 - val_accuracy: 1.0000\n",
      "Epoch 4/10\n",
      "41641/41641 [==============================] - 5s 129us/sample - loss: 0.0508 - accuracy: 0.9940 - val_loss: 0.0371 - val_accuracy: 0.9930\n",
      "Epoch 5/10\n",
      "41641/41641 [==============================] - 5s 127us/sample - loss: 0.0431 - accuracy: 0.9954 - val_loss: 0.0234 - val_accuracy: 1.0000\n",
      "Epoch 6/10\n",
      "41641/41641 [==============================] - 5s 130us/sample - loss: 0.0369 - accuracy: 0.9965 - val_loss: 0.0228 - val_accuracy: 1.0000\n",
      "Epoch 7/10\n",
      "41641/41641 [==============================] - 5s 132us/sample - loss: 0.0345 - accuracy: 0.9969 - val_loss: 0.0195 - val_accuracy: 1.0000\n",
      "Epoch 8/10\n",
      "41641/41641 [==============================] - 6s 146us/sample - loss: 0.0319 - accuracy: 0.9972 - val_loss: 0.0188 - val_accuracy: 1.0000\n",
      "Epoch 9/10\n",
      "41641/41641 [==============================] - 6s 142us/sample - loss: 0.0311 - accuracy: 0.9966 - val_loss: 0.0176 - val_accuracy: 1.0000\n",
      "Epoch 10/10\n",
      "41641/41641 [==============================] - 6s 133us/sample - loss: 0.0264 - accuracy: 0.9981 - val_loss: 0.0157 - val_accuracy: 1.0000\n"
     ]
    }
   ],
   "source": [
    "model.compile(optimizer='adam', loss='categorical_crossentropy', metrics=['accuracy'])\n",
    "    \n",
    "history = model.fit(partial_X_train, partial_y_train, epochs=10, batch_size=128, validation_data=(X_val, y_val))"
   ]
  },
  {
   "cell_type": "code",
   "execution_count": 11,
   "metadata": {},
   "outputs": [
    {
     "name": "stdout",
     "output_type": "stream",
     "text": [
      "25436/25436 [==============================] - 4s 153us/sample - loss: 0.0157 - accuracy: 1.0000\n"
     ]
    },
    {
     "data": {
      "text/plain": [
       "[0.015717043526726083, 1.0]"
      ]
     },
     "execution_count": 11,
     "metadata": {},
     "output_type": "execute_result"
    }
   ],
   "source": [
    "model.evaluate(test_data, one_hot_test_labels)"
   ]
  },
  {
   "cell_type": "code",
   "execution_count": 23,
   "metadata": {},
   "outputs": [
    {
     "name": "stdout",
     "output_type": "stream",
     "text": [
      "Model: \"sequential\"\n",
      "_________________________________________________________________\n",
      "Layer (type)                 Output Shape              Param #   \n",
      "=================================================================\n",
      "dense (Dense)                (None, 500)               5500      \n",
      "_________________________________________________________________\n",
      "dropout (Dropout)            (None, 500)               0         \n",
      "_________________________________________________________________\n",
      "dense_1 (Dense)              (None, 128)               64128     \n",
      "_________________________________________________________________\n",
      "dropout_1 (Dropout)          (None, 128)               0         \n",
      "_________________________________________________________________\n",
      "dense_2 (Dense)              (None, 6)                 774       \n",
      "=================================================================\n",
      "Total params: 70,402\n",
      "Trainable params: 70,402\n",
      "Non-trainable params: 0\n",
      "_________________________________________________________________\n"
     ]
    }
   ],
   "source": [
    "model.summary()"
   ]
  },
  {
   "cell_type": "code",
   "execution_count": 35,
   "metadata": {},
   "outputs": [
    {
     "data": {
      "image/png": "[encoded data removed]",
      "text/plain": [
       "<Figure size 432x288 with 1 Axes>"
      ]
     },
     "metadata": {
      "needs_background": "light"
     },
     "output_type": "display_data"
    }
   ],
   "source": [
    "loss = history.history['loss']\n",
    "val_loss = history.history['val_loss']\n",
    "epochs = range(1, len(loss) + 1)\n",
    "plt.plot(epochs, loss, 'bo', label='Veszteség a tréning adaton')\n",
    "plt.plot(epochs, val_loss, 'b', label='Veszteség a validációs adaton')\n",
    "plt.title('Veszteségek')\n",
    "plt.xlabel('Epok szám')\n",
    "plt.ylabel('Veszteség')\n",
    "plt.legend()\n",
    "plt.savefig(\"loss_cubic_symmetry\")\n",
    "plt.show()"
   ]
  },
  {
   "cell_type": "code",
   "execution_count": 36,
   "metadata": {},
   "outputs": [
    {
     "data": {
      "image/png": "[encoded data removed]",
      "text/plain": [
       "<Figure size 432x288 with 1 Axes>"
      ]
     },
     "metadata": {
      "needs_background": "light"
     },
     "output_type": "display_data"
    }
   ],
   "source": [
    "acc = history.history['accuracy']\n",
    "val_acc = history.history['val_accuracy']\n",
    "epochs = range(1, len(loss) + 1)\n",
    "plt.plot(epochs, acc, 'bo', label='Pontosság a tréning adaton')\n",
    "plt.plot(epochs, val_acc, 'b', label='Pontosság a validációs adaton')\n",
    "plt.title('Pontosság')\n",
    "plt.xlabel('Epok szám')\n",
    "plt.ylabel('Pontosság')\n",
    "plt.legend()\n",
    "plt.savefig(\"acc_cubic_symmetry\")\n",
    "plt.show()"
   ]
  },
  {
   "cell_type": "code",
   "execution_count": 14,
   "metadata": {},
   "outputs": [],
   "source": [
    "test_df = pd.read_csv('test_dataset_cubic.csv', sep='\\t')"
   ]
  },
  {
   "cell_type": "code",
   "execution_count": 15,
   "metadata": {},
   "outputs": [],
   "source": [
    "peaks_test = test_df[[\"peak_1\", \"peak_2\", \"peak_3\", \"peak_4\",\"peak_5\", \"peak_6\", \"peak_7\", \"peak_8\", \"peak_9\", \"peak_10\"]]\n",
    "codes_test = test_df['space_code']"
   ]
  },
  {
   "cell_type": "code",
   "execution_count": 16,
   "metadata": {},
   "outputs": [],
   "source": [
    "testing_data = pd.concat([peaks_test, codes_test], axis=1)"
   ]
  },
  {
   "cell_type": "code",
   "execution_count": 17,
   "metadata": {},
   "outputs": [],
   "source": [
    "X_test = testing_data.drop([\"space_code\"], axis=1)"
   ]
  },
  {
   "cell_type": "code",
   "execution_count": 18,
   "metadata": {},
   "outputs": [],
   "source": [
    "y_test = testing_data[\"space_code\"]"
   ]
  },
  {
   "cell_type": "code",
   "execution_count": 19,
   "metadata": {},
   "outputs": [],
   "source": [
    "y_test_re = np_utils.to_categorical(y_test)"
   ]
  },
  {
   "cell_type": "code",
   "execution_count": 20,
   "metadata": {},
   "outputs": [
    {
     "name": "stdout",
     "output_type": "stream",
     "text": [
      "40/40 [==============================] - 0s 256us/sample - loss: 0.0247 - accuracy: 1.0000\n"
     ]
    },
    {
     "data": {
      "text/plain": [
       "[0.02474174741655588, 1.0]"
      ]
     },
     "execution_count": 20,
     "metadata": {},
     "output_type": "execute_result"
    }
   ],
   "source": [
    "model.evaluate(X_test, y_test_re)"
   ]
  },
  {
   "cell_type": "code",
   "execution_count": 32,
   "metadata": {},
   "outputs": [],
   "source": [
    "model.save(\"cubic_symmetry_model.h5\")"
   ]
  },
  {
   "cell_type": "code",
   "execution_count": null,
   "metadata": {},
   "outputs": [],
   "source": []
  }
 ],
 "metadata": {
  "kernelspec": {
   "display_name": "Python 3",
   "language": "python",
   "name": "python3"
  },
  "language_info": {
   "codemirror_mode": {
    "name": "ipython",
    "version": 3
   },
   "file_extension": ".py",
   "mimetype": "text/x-python",
   "name": "python",
   "nbconvert_exporter": "python",
   "pygments_lexer": "ipython3",
   "version": "3.7.4"
  }
 },
 "nbformat": 4,
 "nbformat_minor": 2
}
