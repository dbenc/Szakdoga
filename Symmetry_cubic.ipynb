{
 "cells": [
  {
   "cell_type": "code",
   "execution_count": 30,
   "metadata": {},
   "outputs": [],
   "source": [
    "import numpy as np\n",
    "import matplotlib.pyplot as plt\n",
    "import pandas as pd\n",
    "import os, re\n",
    "import tensorflow as tf\n",
    "from tensorflow.keras import layers, models, regularizers\n",
    "from sklearn.model_selection import train_test_split, cross_val_score, StratifiedKFold\n",
    "from sklearn import metrics, preprocessing\n",
    "from sklearn.utils import shuffle\n",
    "from tensorflow.keras import utils as np_utils"
   ]
  },
  {
   "cell_type": "code",
   "execution_count": 2,
   "metadata": {},
   "outputs": [],
   "source": [
    "train_df = pd.read_csv('training_dataset_cubic_big.csv', sep='\\t')"
   ]
  },
  {
   "cell_type": "code",
   "execution_count": 31,
   "metadata": {},
   "outputs": [
    {
     "data": {
      "text/html": [
       "<div>\n",
       "<style scoped>\n",
       "    .dataframe tbody tr th:only-of-type {\n",
       "        vertical-align: middle;\n",
       "    }\n",
       "\n",
       "    .dataframe tbody tr th {\n",
       "        vertical-align: top;\n",
       "    }\n",
       "\n",
       "    .dataframe thead th {\n",
       "        text-align: right;\n",
       "    }\n",
       "</style>\n",
       "<table border=\"1\" class=\"dataframe\">\n",
       "  <thead>\n",
       "    <tr style=\"text-align: right;\">\n",
       "      <th></th>\n",
       "      <th>space_group</th>\n",
       "      <th>space_code</th>\n",
       "      <th>names</th>\n",
       "      <th>peak_1</th>\n",
       "      <th>h_1</th>\n",
       "      <th>k_1</th>\n",
       "      <th>l_1</th>\n",
       "      <th>peak_2</th>\n",
       "      <th>h_2</th>\n",
       "      <th>k_2</th>\n",
       "      <th>...</th>\n",
       "      <th>l_8</th>\n",
       "      <th>peak_9</th>\n",
       "      <th>h_9</th>\n",
       "      <th>k_9</th>\n",
       "      <th>l_9</th>\n",
       "      <th>peak_10</th>\n",
       "      <th>h_10</th>\n",
       "      <th>k_10</th>\n",
       "      <th>l_10</th>\n",
       "      <th>a</th>\n",
       "    </tr>\n",
       "  </thead>\n",
       "  <tbody>\n",
       "    <tr>\n",
       "      <th>0</th>\n",
       "      <td>Fm3m</td>\n",
       "      <td>0</td>\n",
       "      <td>Sulphohalite_0018630.txt</td>\n",
       "      <td>5.774080</td>\n",
       "      <td>1</td>\n",
       "      <td>1</td>\n",
       "      <td>1</td>\n",
       "      <td>5.00050</td>\n",
       "      <td>2</td>\n",
       "      <td>1</td>\n",
       "      <td>...</td>\n",
       "      <td>0</td>\n",
       "      <td>2.041445</td>\n",
       "      <td>4</td>\n",
       "      <td>2</td>\n",
       "      <td>1</td>\n",
       "      <td>1.924693</td>\n",
       "      <td>3</td>\n",
       "      <td>3</td>\n",
       "      <td>1</td>\n",
       "      <td>10.0010</td>\n",
       "    </tr>\n",
       "    <tr>\n",
       "      <th>1</th>\n",
       "      <td>Fm3m</td>\n",
       "      <td>0</td>\n",
       "      <td>Sulphohalite_0018630.txt</td>\n",
       "      <td>5.838166</td>\n",
       "      <td>1</td>\n",
       "      <td>1</td>\n",
       "      <td>1</td>\n",
       "      <td>5.05600</td>\n",
       "      <td>2</td>\n",
       "      <td>1</td>\n",
       "      <td>...</td>\n",
       "      <td>0</td>\n",
       "      <td>2.064103</td>\n",
       "      <td>4</td>\n",
       "      <td>2</td>\n",
       "      <td>1</td>\n",
       "      <td>1.946055</td>\n",
       "      <td>3</td>\n",
       "      <td>3</td>\n",
       "      <td>1</td>\n",
       "      <td>10.1120</td>\n",
       "    </tr>\n",
       "    <tr>\n",
       "      <th>2</th>\n",
       "      <td>Fm3m</td>\n",
       "      <td>0</td>\n",
       "      <td>Sulphohalite_0018630.txt</td>\n",
       "      <td>5.820846</td>\n",
       "      <td>1</td>\n",
       "      <td>1</td>\n",
       "      <td>1</td>\n",
       "      <td>5.04100</td>\n",
       "      <td>2</td>\n",
       "      <td>1</td>\n",
       "      <td>...</td>\n",
       "      <td>0</td>\n",
       "      <td>2.057979</td>\n",
       "      <td>4</td>\n",
       "      <td>2</td>\n",
       "      <td>1</td>\n",
       "      <td>1.940282</td>\n",
       "      <td>3</td>\n",
       "      <td>3</td>\n",
       "      <td>1</td>\n",
       "      <td>10.0820</td>\n",
       "    </tr>\n",
       "    <tr>\n",
       "      <th>3</th>\n",
       "      <td>Fm3m</td>\n",
       "      <td>0</td>\n",
       "      <td>Sulphohalite_0018630.txt</td>\n",
       "      <td>5.765998</td>\n",
       "      <td>1</td>\n",
       "      <td>1</td>\n",
       "      <td>1</td>\n",
       "      <td>4.99350</td>\n",
       "      <td>2</td>\n",
       "      <td>1</td>\n",
       "      <td>...</td>\n",
       "      <td>0</td>\n",
       "      <td>2.038588</td>\n",
       "      <td>4</td>\n",
       "      <td>2</td>\n",
       "      <td>1</td>\n",
       "      <td>1.921999</td>\n",
       "      <td>3</td>\n",
       "      <td>3</td>\n",
       "      <td>1</td>\n",
       "      <td>9.9870</td>\n",
       "    </tr>\n",
       "    <tr>\n",
       "      <th>4</th>\n",
       "      <td>Fm3m</td>\n",
       "      <td>0</td>\n",
       "      <td>Sulphohalite_0018630.txt</td>\n",
       "      <td>5.767152</td>\n",
       "      <td>1</td>\n",
       "      <td>1</td>\n",
       "      <td>1</td>\n",
       "      <td>4.99450</td>\n",
       "      <td>2</td>\n",
       "      <td>1</td>\n",
       "      <td>...</td>\n",
       "      <td>0</td>\n",
       "      <td>2.038996</td>\n",
       "      <td>4</td>\n",
       "      <td>2</td>\n",
       "      <td>1</td>\n",
       "      <td>1.922384</td>\n",
       "      <td>3</td>\n",
       "      <td>3</td>\n",
       "      <td>1</td>\n",
       "      <td>9.9890</td>\n",
       "    </tr>\n",
       "    <tr>\n",
       "      <th>...</th>\n",
       "      <td>...</td>\n",
       "      <td>...</td>\n",
       "      <td>...</td>\n",
       "      <td>...</td>\n",
       "      <td>...</td>\n",
       "      <td>...</td>\n",
       "      <td>...</td>\n",
       "      <td>...</td>\n",
       "      <td>...</td>\n",
       "      <td>...</td>\n",
       "      <td>...</td>\n",
       "      <td>...</td>\n",
       "      <td>...</td>\n",
       "      <td>...</td>\n",
       "      <td>...</td>\n",
       "      <td>...</td>\n",
       "      <td>...</td>\n",
       "      <td>...</td>\n",
       "      <td>...</td>\n",
       "      <td>...</td>\n",
       "      <td>...</td>\n",
       "    </tr>\n",
       "    <tr>\n",
       "      <th>77072</th>\n",
       "      <td>Im3</td>\n",
       "      <td>4</td>\n",
       "      <td>Menezesite_0004492.txt</td>\n",
       "      <td>9.204409</td>\n",
       "      <td>1</td>\n",
       "      <td>1</td>\n",
       "      <td>0</td>\n",
       "      <td>6.50850</td>\n",
       "      <td>2</td>\n",
       "      <td>1</td>\n",
       "      <td>...</td>\n",
       "      <td>1</td>\n",
       "      <td>3.478940</td>\n",
       "      <td>2</td>\n",
       "      <td>1</td>\n",
       "      <td>1</td>\n",
       "      <td>3.254250</td>\n",
       "      <td>4</td>\n",
       "      <td>1</td>\n",
       "      <td>0</td>\n",
       "      <td>13.0170</td>\n",
       "    </tr>\n",
       "    <tr>\n",
       "      <th>77073</th>\n",
       "      <td>Im3</td>\n",
       "      <td>4</td>\n",
       "      <td>Perovskite group_0016660.txt</td>\n",
       "      <td>5.258046</td>\n",
       "      <td>1</td>\n",
       "      <td>1</td>\n",
       "      <td>0</td>\n",
       "      <td>3.71800</td>\n",
       "      <td>2</td>\n",
       "      <td>1</td>\n",
       "      <td>...</td>\n",
       "      <td>1</td>\n",
       "      <td>1.987355</td>\n",
       "      <td>3</td>\n",
       "      <td>1</td>\n",
       "      <td>1</td>\n",
       "      <td>1.859000</td>\n",
       "      <td>4</td>\n",
       "      <td>1</td>\n",
       "      <td>0</td>\n",
       "      <td>7.4360</td>\n",
       "    </tr>\n",
       "    <tr>\n",
       "      <th>77074</th>\n",
       "      <td>Im3</td>\n",
       "      <td>4</td>\n",
       "      <td>RhAs3__0017607.txt</td>\n",
       "      <td>5.975547</td>\n",
       "      <td>1</td>\n",
       "      <td>1</td>\n",
       "      <td>0</td>\n",
       "      <td>4.22535</td>\n",
       "      <td>2</td>\n",
       "      <td>1</td>\n",
       "      <td>...</td>\n",
       "      <td>1</td>\n",
       "      <td>2.258545</td>\n",
       "      <td>3</td>\n",
       "      <td>1</td>\n",
       "      <td>1</td>\n",
       "      <td>2.112675</td>\n",
       "      <td>4</td>\n",
       "      <td>1</td>\n",
       "      <td>0</td>\n",
       "      <td>8.4507</td>\n",
       "    </tr>\n",
       "    <tr>\n",
       "      <th>77075</th>\n",
       "      <td>Im3</td>\n",
       "      <td>4</td>\n",
       "      <td>RhSb3__0017611.txt</td>\n",
       "      <td>6.528151</td>\n",
       "      <td>1</td>\n",
       "      <td>1</td>\n",
       "      <td>0</td>\n",
       "      <td>4.61610</td>\n",
       "      <td>2</td>\n",
       "      <td>1</td>\n",
       "      <td>...</td>\n",
       "      <td>1</td>\n",
       "      <td>2.467409</td>\n",
       "      <td>3</td>\n",
       "      <td>1</td>\n",
       "      <td>1</td>\n",
       "      <td>2.308050</td>\n",
       "      <td>4</td>\n",
       "      <td>1</td>\n",
       "      <td>0</td>\n",
       "      <td>9.2322</td>\n",
       "    </tr>\n",
       "    <tr>\n",
       "      <th>77076</th>\n",
       "      <td>Im3</td>\n",
       "      <td>4</td>\n",
       "      <td>Skutterudite_0017606.txt</td>\n",
       "      <td>5.802164</td>\n",
       "      <td>1</td>\n",
       "      <td>1</td>\n",
       "      <td>0</td>\n",
       "      <td>4.10275</td>\n",
       "      <td>2</td>\n",
       "      <td>1</td>\n",
       "      <td>...</td>\n",
       "      <td>1</td>\n",
       "      <td>2.193012</td>\n",
       "      <td>3</td>\n",
       "      <td>1</td>\n",
       "      <td>1</td>\n",
       "      <td>2.051375</td>\n",
       "      <td>4</td>\n",
       "      <td>1</td>\n",
       "      <td>0</td>\n",
       "      <td>8.2055</td>\n",
       "    </tr>\n",
       "  </tbody>\n",
       "</table>\n",
       "<p>77077 rows × 44 columns</p>\n",
       "</div>"
      ],
      "text/plain": [
       "      space_group  space_code                         names    peak_1  h_1  \\\n",
       "0            Fm3m           0      Sulphohalite_0018630.txt  5.774080    1   \n",
       "1            Fm3m           0      Sulphohalite_0018630.txt  5.838166    1   \n",
       "2            Fm3m           0      Sulphohalite_0018630.txt  5.820846    1   \n",
       "3            Fm3m           0      Sulphohalite_0018630.txt  5.765998    1   \n",
       "4            Fm3m           0      Sulphohalite_0018630.txt  5.767152    1   \n",
       "...           ...         ...                           ...       ...  ...   \n",
       "77072         Im3           4        Menezesite_0004492.txt  9.204409    1   \n",
       "77073         Im3           4  Perovskite group_0016660.txt  5.258046    1   \n",
       "77074         Im3           4            RhAs3__0017607.txt  5.975547    1   \n",
       "77075         Im3           4            RhSb3__0017611.txt  6.528151    1   \n",
       "77076         Im3           4      Skutterudite_0017606.txt  5.802164    1   \n",
       "\n",
       "       k_1  l_1   peak_2  h_2  k_2  ...  l_8    peak_9  h_9  k_9  l_9  \\\n",
       "0        1    1  5.00050    2    1  ...    0  2.041445    4    2    1   \n",
       "1        1    1  5.05600    2    1  ...    0  2.064103    4    2    1   \n",
       "2        1    1  5.04100    2    1  ...    0  2.057979    4    2    1   \n",
       "3        1    1  4.99350    2    1  ...    0  2.038588    4    2    1   \n",
       "4        1    1  4.99450    2    1  ...    0  2.038996    4    2    1   \n",
       "...    ...  ...      ...  ...  ...  ...  ...       ...  ...  ...  ...   \n",
       "77072    1    0  6.50850    2    1  ...    1  3.478940    2    1    1   \n",
       "77073    1    0  3.71800    2    1  ...    1  1.987355    3    1    1   \n",
       "77074    1    0  4.22535    2    1  ...    1  2.258545    3    1    1   \n",
       "77075    1    0  4.61610    2    1  ...    1  2.467409    3    1    1   \n",
       "77076    1    0  4.10275    2    1  ...    1  2.193012    3    1    1   \n",
       "\n",
       "        peak_10  h_10  k_10  l_10        a  \n",
       "0      1.924693     3     3     1  10.0010  \n",
       "1      1.946055     3     3     1  10.1120  \n",
       "2      1.940282     3     3     1  10.0820  \n",
       "3      1.921999     3     3     1   9.9870  \n",
       "4      1.922384     3     3     1   9.9890  \n",
       "...         ...   ...   ...   ...      ...  \n",
       "77072  3.254250     4     1     0  13.0170  \n",
       "77073  1.859000     4     1     0   7.4360  \n",
       "77074  2.112675     4     1     0   8.4507  \n",
       "77075  2.308050     4     1     0   9.2322  \n",
       "77076  2.051375     4     1     0   8.2055  \n",
       "\n",
       "[77077 rows x 44 columns]"
      ]
     },
     "execution_count": 31,
     "metadata": {},
     "output_type": "execute_result"
    }
   ],
   "source": [
    "train_df"
   ]
  },
  {
   "cell_type": "code",
   "execution_count": 3,
   "metadata": {},
   "outputs": [],
   "source": [
    "peaks = train_df[[\"peak_1\", \"peak_2\", \"peak_3\", \"peak_4\",\"peak_5\", \"peak_6\", \"peak_7\", \"peak_8\", \"peak_9\", \"peak_10\"]]\n",
    "code = train_df['space_code']"
   ]
  },
  {
   "cell_type": "code",
   "execution_count": 4,
   "metadata": {},
   "outputs": [],
   "source": [
    "training_data = pd.concat([peaks, code], axis=1)"
   ]
  },
  {
   "cell_type": "code",
   "execution_count": 5,
   "metadata": {},
   "outputs": [],
   "source": [
    "training_data = shuffle(training_data)"
   ]
  },
  {
   "cell_type": "code",
   "execution_count": 6,
   "metadata": {},
   "outputs": [],
   "source": [
    "X = training_data.drop([\"space_code\"], axis=1)\n",
    "y = training_data[\"space_code\"]"
   ]
  },
  {
   "cell_type": "code",
   "execution_count": 7,
   "metadata": {},
   "outputs": [],
   "source": [
    "train_data, test_data, train_labels, test_labels = train_test_split(X, \n",
    "                                                    y, \n",
    "                                                    test_size=0.33, \n",
    "                                                    random_state=42)"
   ]
  },
  {
   "cell_type": "code",
   "execution_count": 8,
   "metadata": {},
   "outputs": [],
   "source": [
    "one_hot_train_labels = np_utils.to_categorical(train_labels)\n",
    "one_hot_test_labels = np_utils.to_categorical(test_labels)\n",
    "    \n",
    "X_val = train_data[:10000]\n",
    "partial_X_train = train_data[10000:]\n",
    "y_val = one_hot_train_labels[:10000]\n",
    "partial_y_train = one_hot_train_labels[10000:]"
   ]
  },
  {
   "cell_type": "code",
   "execution_count": 9,
   "metadata": {},
   "outputs": [],
   "source": [
    "model = models.Sequential()\n",
    "model.add(layers.Dense(500, kernel_regularizer=regularizers.l2(0.0001), activation='relu', input_dim=10))\n",
    "model.add(layers.Dropout(0.5))\n",
    "model.add(layers.Dense(128, kernel_regularizer=regularizers.l2(0.0001), activation='relu'))\n",
    "model.add(layers.Dropout(0.5))\n",
    "model.add(layers.Dense(6, activation='sigmoid'))"
   ]
  },
  {
   "cell_type": "code",
   "execution_count": 10,
   "metadata": {},
   "outputs": [
    {
     "name": "stdout",
     "output_type": "stream",
     "text": [
      "Train on 41641 samples, validate on 10000 samples\n",
      "Epoch 1/10\n",
      "41641/41641 [==============================] - 2s 49us/sample - loss: 0.2389 - accuracy: 0.9132 - val_loss: 0.1003 - val_accuracy: 0.9666\n",
      "Epoch 2/10\n",
      "41641/41641 [==============================] - 1s 32us/sample - loss: 0.0873 - accuracy: 0.9744 - val_loss: 0.0474 - val_accuracy: 0.9874\n",
      "Epoch 3/10\n",
      "41641/41641 [==============================] - 1s 33us/sample - loss: 0.0503 - accuracy: 0.9904 - val_loss: 0.0281 - val_accuracy: 1.0000\n",
      "Epoch 4/10\n",
      "41641/41641 [==============================] - 1s 31us/sample - loss: 0.0344 - accuracy: 0.9959 - val_loss: 0.0201 - val_accuracy: 1.0000\n",
      "Epoch 5/10\n",
      "41641/41641 [==============================] - 1s 29us/sample - loss: 0.0269 - accuracy: 0.9976 - val_loss: 0.0164 - val_accuracy: 1.0000\n",
      "Epoch 6/10\n",
      "41641/41641 [==============================] - 1s 33us/sample - loss: 0.0228 - accuracy: 0.9982 - val_loss: 0.0144 - val_accuracy: 1.0000\n",
      "Epoch 7/10\n",
      "41641/41641 [==============================] - 2s 36us/sample - loss: 0.0191 - accuracy: 0.9988 - val_loss: 0.0122 - val_accuracy: 1.0000\n",
      "Epoch 8/10\n",
      "41641/41641 [==============================] - 1s 31us/sample - loss: 0.0170 - accuracy: 0.9990 - val_loss: 0.0108 - val_accuracy: 1.0000\n",
      "Epoch 9/10\n",
      "41641/41641 [==============================] - 2s 36us/sample - loss: 0.0155 - accuracy: 0.9991 - val_loss: 0.0101 - val_accuracy: 1.0000\n",
      "Epoch 10/10\n",
      "41641/41641 [==============================] - 2s 37us/sample - loss: 0.0139 - accuracy: 0.9993 - val_loss: 0.0093 - val_accuracy: 1.0000\n"
     ]
    }
   ],
   "source": [
    "model.compile(optimizer='adam', loss='binary_crossentropy', metrics=['accuracy'])\n",
    "    \n",
    "history = model.fit(partial_X_train, partial_y_train, epochs=10, batch_size=128, validation_data=(X_val, y_val))"
   ]
  },
  {
   "cell_type": "code",
   "execution_count": 11,
   "metadata": {},
   "outputs": [
    {
     "name": "stdout",
     "output_type": "stream",
     "text": [
      "25436/25436 [==============================] - 1s 26us/sample - loss: 0.0094 - accuracy: 1.0000\n"
     ]
    },
    {
     "data": {
      "text/plain": [
       "[0.00935083549258225, 1.0]"
      ]
     },
     "execution_count": 11,
     "metadata": {},
     "output_type": "execute_result"
    }
   ],
   "source": [
    "model.evaluate(test_data, one_hot_test_labels)"
   ]
  },
  {
   "cell_type": "code",
   "execution_count": 12,
   "metadata": {},
   "outputs": [
    {
     "name": "stdout",
     "output_type": "stream",
     "text": [
      "Model: \"sequential\"\n",
      "_________________________________________________________________\n",
      "Layer (type)                 Output Shape              Param #   \n",
      "=================================================================\n",
      "dense (Dense)                (None, 500)               5500      \n",
      "_________________________________________________________________\n",
      "dropout (Dropout)            (None, 500)               0         \n",
      "_________________________________________________________________\n",
      "dense_1 (Dense)              (None, 128)               64128     \n",
      "_________________________________________________________________\n",
      "dropout_1 (Dropout)          (None, 128)               0         \n",
      "_________________________________________________________________\n",
      "dense_2 (Dense)              (None, 6)                 774       \n",
      "=================================================================\n",
      "Total params: 70,402\n",
      "Trainable params: 70,402\n",
      "Non-trainable params: 0\n",
      "_________________________________________________________________\n"
     ]
    }
   ],
   "source": [
    "model.summary()"
   ]
  },
  {
   "cell_type": "code",
   "execution_count": 13,
   "metadata": {},
   "outputs": [
    {
     "data": {
      "image/png": "[encoded data removed]",
      "text/plain": [
       "<Figure size 432x288 with 1 Axes>"
      ]
     },
     "metadata": {
      "needs_background": "light"
     },
     "output_type": "display_data"
    }
   ],
   "source": [
    "loss = history.history['loss']\n",
    "val_loss = history.history['val_loss']\n",
    "epochs = range(1, len(loss) + 1)\n",
    "plt.plot(epochs, loss, 'bo', label='Veszteség a tréning adaton')\n",
    "plt.plot(epochs, val_loss, 'b', label='Veszteség a validációs adaton')\n",
    "plt.title('Veszteségek')\n",
    "plt.xlabel('Epok szám')\n",
    "plt.ylabel('Veszteség')\n",
    "plt.legend()\n",
    "plt.savefig(\"loss_cubic_symmetry\")\n",
    "plt.show()"
   ]
  },
  {
   "cell_type": "code",
   "execution_count": 14,
   "metadata": {},
   "outputs": [
    {
     "data": {
      "image/png": "[encoded data removed]",
      "text/plain": [
       "<Figure size 432x288 with 1 Axes>"
      ]
     },
     "metadata": {
      "needs_background": "light"
     },
     "output_type": "display_data"
    }
   ],
   "source": [
    "acc = history.history['accuracy']\n",
    "val_acc = history.history['val_accuracy']\n",
    "epochs = range(1, len(loss) + 1)\n",
    "plt.plot(epochs, acc, 'bo', label='Pontosság a tréning adaton')\n",
    "plt.plot(epochs, val_acc, 'b', label='Pontosság a validációs adaton')\n",
    "plt.title('Pontosság')\n",
    "plt.xlabel('Epok szám')\n",
    "plt.ylabel('Pontosság')\n",
    "plt.legend()\n",
    "plt.savefig(\"acc_cubic_symmetry\")\n",
    "plt.show()"
   ]
  },
  {
   "cell_type": "code",
   "execution_count": 15,
   "metadata": {},
   "outputs": [
    {
     "data": {
      "image/png": "[encoded data removed]",
      "text/plain": [
       "<Figure size 720x720 with 2 Axes>"
      ]
     },
     "metadata": {
      "needs_background": "light"
     },
     "output_type": "display_data"
    }
   ],
   "source": [
    "fig, (ax1, ax2) = plt.subplots(2,figsize=(10,10))\n",
    "ax1.plot(epochs, acc, 'bo', label='Pontosság a tréning adaton')\n",
    "ax1.plot(epochs, val_acc, 'b', label='Pontosság a validációs adaton')\n",
    "ax1.set_ylabel('Pontosság')\n",
    "ax1.legend()\n",
    "ax2.plot(epochs, loss, 'bo', label='Veszteség a tréning adaton')\n",
    "ax2.plot(epochs, val_loss, 'b', label='Veszteség a validációs adaton')\n",
    "ax2.set_xlabel('Epok szám')\n",
    "ax2.set_ylabel('Veszteség')\n",
    "ax2.legend()\n",
    "plt.savefig('sym_one')"
   ]
  },
  {
   "cell_type": "code",
   "execution_count": 16,
   "metadata": {},
   "outputs": [],
   "source": [
    "test_df = pd.read_csv('test_dataset_cubic.csv', sep='\\t')"
   ]
  },
  {
   "cell_type": "code",
   "execution_count": 17,
   "metadata": {},
   "outputs": [],
   "source": [
    "peaks_test = test_df[[\"peak_1\", \"peak_2\", \"peak_3\", \"peak_4\",\"peak_5\", \"peak_6\", \"peak_7\", \"peak_8\", \"peak_9\", \"peak_10\"]]\n",
    "codes_test = test_df['space_code']"
   ]
  },
  {
   "cell_type": "code",
   "execution_count": 18,
   "metadata": {},
   "outputs": [],
   "source": [
    "testing_data = pd.concat([peaks_test, codes_test], axis=1)"
   ]
  },
  {
   "cell_type": "code",
   "execution_count": 19,
   "metadata": {},
   "outputs": [],
   "source": [
    "X_test = testing_data.drop([\"space_code\"], axis=1)"
   ]
  },
  {
   "cell_type": "code",
   "execution_count": 20,
   "metadata": {},
   "outputs": [],
   "source": [
    "y_test = testing_data[\"space_code\"]"
   ]
  },
  {
   "cell_type": "code",
   "execution_count": 21,
   "metadata": {},
   "outputs": [],
   "source": [
    "y_test_re = np_utils.to_categorical(y_test)"
   ]
  },
  {
   "cell_type": "code",
   "execution_count": 22,
   "metadata": {},
   "outputs": [
    {
     "name": "stdout",
     "output_type": "stream",
     "text": [
      "40/40 [==============================] - 0s 187us/sample - loss: 0.0160 - accuracy: 1.0000\n"
     ]
    },
    {
     "data": {
      "text/plain": [
       "[0.016008874773979186, 1.0]"
      ]
     },
     "execution_count": 22,
     "metadata": {},
     "output_type": "execute_result"
    }
   ],
   "source": [
    "model.evaluate(X_test, y_test_re)"
   ]
  },
  {
   "cell_type": "code",
   "execution_count": 23,
   "metadata": {},
   "outputs": [],
   "source": [
    "model = models.load_model(\"cubic_symmetry_model.h5\")"
   ]
  },
  {
   "cell_type": "code",
   "execution_count": 24,
   "metadata": {},
   "outputs": [
    {
     "data": {
      "text/plain": [
       "array([[9.9780852e-01, 1.5904573e-03, 2.4241126e-07, 6.7653118e-06,\n",
       "        5.9345330e-04, 5.4485031e-07]], dtype=float32)"
      ]
     },
     "execution_count": 24,
     "metadata": {},
     "output_type": "execute_result"
    }
   ],
   "source": [
    "model.predict(X_test[0:1])"
   ]
  },
  {
   "cell_type": "code",
   "execution_count": 29,
   "metadata": {},
   "outputs": [
    {
     "data": {
      "image/png": "[encoded data removed]",
      "text/plain": [
       "<IPython.core.display.Image object>"
      ]
     },
     "execution_count": 29,
     "metadata": {},
     "output_type": "execute_result"
    }
   ],
   "source": [
    "np_utils.plot_model(model, to_file='model_cubic_one.png', show_shapes=True)"
   ]
  },
  {
   "cell_type": "code",
   "execution_count": 26,
   "metadata": {},
   "outputs": [
    {
     "name": "stdout",
     "output_type": "stream",
     "text": [
      "Collecting pydotplus\n",
      "  Downloading pydotplus-2.0.2.tar.gz (278 kB)\n",
      "Requirement already satisfied: pyparsing>=2.0.1 in c:\\users\\dajka\\anaconda3\\lib\\site-packages (from pydotplus) (2.4.7)\n",
      "Building wheels for collected packages: pydotplus\n",
      "  Building wheel for pydotplus (setup.py): started\n",
      "  Building wheel for pydotplus (setup.py): finished with status 'done'\n",
      "  Created wheel for pydotplus: filename=pydotplus-2.0.2-py3-none-any.whl size=24566 sha256=d701d158da9e2d137a2cd62f44efe46a5007d5a9a119af9ffbe75d925f47de28\n",
      "  Stored in directory: c:\\users\\dajka\\appdata\\local\\pip\\cache\\wheels\\1e\\7b\\04\\7387cf6cc9e48b4a96e361b0be812f0708b394b821bf8c9c50\n",
      "Successfully built pydotplus\n",
      "Installing collected packages: pydotplus\n",
      "Successfully installed pydotplus-2.0.2\n"
     ]
    },
    {
     "name": "stderr",
     "output_type": "stream",
     "text": [
      "WARNING: Ignoring invalid distribution -umpy (c:\\users\\dajka\\anaconda3\\lib\\site-packages)\n",
      "WARNING: Ignoring invalid distribution -atplotlib (c:\\users\\dajka\\anaconda3\\lib\\site-packages)\n",
      "WARNING: Ignoring invalid distribution -umpy (c:\\users\\dajka\\anaconda3\\lib\\site-packages)\n",
      "WARNING: Ignoring invalid distribution -atplotlib (c:\\users\\dajka\\anaconda3\\lib\\site-packages)\n",
      "WARNING: Ignoring invalid distribution -umpy (c:\\users\\dajka\\anaconda3\\lib\\site-packages)\n",
      "WARNING: Ignoring invalid distribution -atplotlib (c:\\users\\dajka\\anaconda3\\lib\\site-packages)\n",
      "WARNING: Ignoring invalid distribution -umpy (c:\\users\\dajka\\anaconda3\\lib\\site-packages)\n",
      "WARNING: Ignoring invalid distribution -atplotlib (c:\\users\\dajka\\anaconda3\\lib\\site-packages)\n",
      "WARNING: Ignoring invalid distribution -umpy (c:\\users\\dajka\\anaconda3\\lib\\site-packages)\n",
      "WARNING: Ignoring invalid distribution -atplotlib (c:\\users\\dajka\\anaconda3\\lib\\site-packages)\n"
     ]
    }
   ],
   "source": [
    "!pip install pydotplus"
   ]
  },
  {
   "cell_type": "code",
   "execution_count": null,
   "metadata": {},
   "outputs": [],
   "source": []
  }
 ],
 "metadata": {
  "kernelspec": {
   "display_name": "Python 3",
   "language": "python",
   "name": "python3"
  },
  "language_info": {
   "codemirror_mode": {
    "name": "ipython",
    "version": 3
   },
   "file_extension": ".py",
   "mimetype": "text/x-python",
   "name": "python",
   "nbconvert_exporter": "python",
   "pygments_lexer": "ipython3",
   "version": "3.7.4"
  }
 },
 "nbformat": 4,
 "nbformat_minor": 2
}
