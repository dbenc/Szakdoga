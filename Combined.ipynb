{
 "cells": [
  {
   "cell_type": "code",
   "execution_count": 9,
   "metadata": {},
   "outputs": [],
   "source": [
    "import numpy as np\n",
    "import matplotlib.pyplot as plt\n",
    "import pandas as pd\n",
    "import os, re\n",
    "from tensorflow import keras\n",
    "import keras\n",
    "from tensorflow.keras import layers, models, regularizers\n",
    "from sklearn.model_selection import train_test_split, cross_val_score, StratifiedKFold\n",
    "from sklearn import metrics, preprocessing\n",
    "from keras.utils.np_utils import to_categorical\n",
    "from keras.layers import BatchNormalization\n",
    "from sklearn.utils import shuffle"
   ]
  },
  {
   "cell_type": "code",
   "execution_count": 121,
   "metadata": {},
   "outputs": [],
   "source": [
    "data = pd.read_csv('combined.csv', sep='\\t')\n",
    "test_data = pd.read_csv('combined_test.csv', sep='\\t')"
   ]
  },
  {
   "cell_type": "code",
   "execution_count": 11,
   "metadata": {},
   "outputs": [
    {
     "data": {
      "text/html": [
       "<div>\n",
       "<style scoped>\n",
       "    .dataframe tbody tr th:only-of-type {\n",
       "        vertical-align: middle;\n",
       "    }\n",
       "\n",
       "    .dataframe tbody tr th {\n",
       "        vertical-align: top;\n",
       "    }\n",
       "\n",
       "    .dataframe thead th {\n",
       "        text-align: right;\n",
       "    }\n",
       "</style>\n",
       "<table border=\"1\" class=\"dataframe\">\n",
       "  <thead>\n",
       "    <tr style=\"text-align: right;\">\n",
       "      <th></th>\n",
       "      <th>peak_1</th>\n",
       "      <th>peak_2</th>\n",
       "      <th>peak_3</th>\n",
       "      <th>peak_4</th>\n",
       "      <th>peak_5</th>\n",
       "      <th>peak_6</th>\n",
       "      <th>codes</th>\n",
       "    </tr>\n",
       "  </thead>\n",
       "  <tbody>\n",
       "    <tr>\n",
       "      <th>0</th>\n",
       "      <td>5.556681</td>\n",
       "      <td>4.091404</td>\n",
       "      <td>4.501916</td>\n",
       "      <td>4.209752</td>\n",
       "      <td>2.451787</td>\n",
       "      <td>2.150988</td>\n",
       "      <td>1</td>\n",
       "    </tr>\n",
       "    <tr>\n",
       "      <th>1</th>\n",
       "      <td>5.212766</td>\n",
       "      <td>3.115224</td>\n",
       "      <td>5.286706</td>\n",
       "      <td>4.546477</td>\n",
       "      <td>2.419685</td>\n",
       "      <td>3.152779</td>\n",
       "      <td>7</td>\n",
       "    </tr>\n",
       "    <tr>\n",
       "      <th>2</th>\n",
       "      <td>5.260573</td>\n",
       "      <td>3.143794</td>\n",
       "      <td>5.881500</td>\n",
       "      <td>3.262469</td>\n",
       "      <td>2.093593</td>\n",
       "      <td>4.084726</td>\n",
       "      <td>7</td>\n",
       "    </tr>\n",
       "    <tr>\n",
       "      <th>3</th>\n",
       "      <td>4.337921</td>\n",
       "      <td>3.756750</td>\n",
       "      <td>1.603347</td>\n",
       "      <td>2.007628</td>\n",
       "      <td>2.470347</td>\n",
       "      <td>2.144694</td>\n",
       "      <td>3</td>\n",
       "    </tr>\n",
       "    <tr>\n",
       "      <th>4</th>\n",
       "      <td>5.541429</td>\n",
       "      <td>4.829944</td>\n",
       "      <td>4.322524</td>\n",
       "      <td>4.729935</td>\n",
       "      <td>2.327353</td>\n",
       "      <td>3.283109</td>\n",
       "      <td>8</td>\n",
       "    </tr>\n",
       "  </tbody>\n",
       "</table>\n",
       "</div>"
      ],
      "text/plain": [
       "     peak_1    peak_2    peak_3    peak_4    peak_5    peak_6  codes\n",
       "0  5.556681  4.091404  4.501916  4.209752  2.451787  2.150988      1\n",
       "1  5.212766  3.115224  5.286706  4.546477  2.419685  3.152779      7\n",
       "2  5.260573  3.143794  5.881500  3.262469  2.093593  4.084726      7\n",
       "3  4.337921  3.756750  1.603347  2.007628  2.470347  2.144694      3\n",
       "4  5.541429  4.829944  4.322524  4.729935  2.327353  3.283109      8"
      ]
     },
     "execution_count": 11,
     "metadata": {},
     "output_type": "execute_result"
    }
   ],
   "source": [
    "data.head()"
   ]
  },
  {
   "cell_type": "code",
   "execution_count": 12,
   "metadata": {},
   "outputs": [],
   "source": [
    "X = data[['peak_1', 'peak_2', 'peak_3', 'peak_4', 'peak_5', 'peak_6']]\n",
    "y = data[\"codes\"]"
   ]
  },
  {
   "cell_type": "code",
   "execution_count": 13,
   "metadata": {},
   "outputs": [],
   "source": [
    "# split data to train and test arrays\n",
    "X_train, X_test, y_train, y_test = train_test_split( X, y, test_size=0.33, random_state=42)"
   ]
  },
  {
   "cell_type": "code",
   "execution_count": 14,
   "metadata": {},
   "outputs": [],
   "source": [
    "# transform numbers into tensor\n",
    "one_hot_train_labels = to_categorical(y_train)\n",
    "one_hot_test_labels = to_categorical(y_test)"
   ]
  },
  {
   "cell_type": "code",
   "execution_count": 15,
   "metadata": {},
   "outputs": [],
   "source": [
    "# take out some training data for the validation process\n",
    "X_val = X_train[:10000]\n",
    "partial_X_train = X_train[10000:]\n",
    "y_val = one_hot_train_labels[:10000]\n",
    "partial_y_train = one_hot_train_labels[10000:]"
   ]
  },
  {
   "cell_type": "code",
   "execution_count": 104,
   "metadata": {},
   "outputs": [],
   "source": [
    "#create the model \n",
    "model_dropout = models.Sequential()\n",
    "model_dropout.add(layers.Dense(512, activation='relu', input_dim=6))\n",
    "model.add(layers.Dropout(0.5))\n",
    "model_dropout.add(layers.Dense(512, activation='relu'))\n",
    "model_dropout.add(layers.Dense(512, activation='relu'))\n",
    "model_dropout.add(layers.Dense(128, activation='relu'))\n",
    "model_dropout.add(layers.Dense(10, activation='softmax'))\n",
    "\n",
    "model_dropout.compile(optimizer='adam', loss='categorical_crossentropy', metrics=['accuracy'])"
   ]
  },
  {
   "cell_type": "code",
   "execution_count": 105,
   "metadata": {},
   "outputs": [],
   "source": [
    "# little modification to test accuracy and ovefitting\n",
    "model = models.Sequential()\n",
    "model.add(layers.Dense(512, activation='relu', input_dim=6))\n",
    "model.add(layers.Dropout(0.5))\n",
    "model.add(layers.Dense(512, activation='relu'))\n",
    "model.add(layers.Dense(512, activation='relu'))\n",
    "model.add(layers.Dense(512, activation='relu'))\n",
    "model.add(layers.Dense(10, activation='softmax'))\n",
    "\n",
    "model.compile(optimizer='adam', loss='categorical_crossentropy', metrics=['accuracy'])"
   ]
  },
  {
   "cell_type": "code",
   "execution_count": 115,
   "metadata": {},
   "outputs": [],
   "source": [
    "model_small = models.Sequential()\n",
    "model_small.add(layers.Dense(512, activation='relu', input_dim=6))\n",
    "model_small.add(layers.Dense(512, activation='relu'))\n",
    "model_small.add(layers.Dense(512, activation='relu'))\n",
    "model_small.add(layers.Dense(512, activation='relu'))\n",
    "model_small.add(layers.Dense(10, activation='softmax'))\n",
    "\n",
    "model_small.compile(optimizer='adam', loss='categorical_crossentropy', metrics=['accuracy'])"
   ]
  },
  {
   "cell_type": "code",
   "execution_count": 117,
   "metadata": {},
   "outputs": [
    {
     "name": "stdout",
     "output_type": "stream",
     "text": [
      "Epoch 1/500\n",
      "29/29 [==============================] - 1s 29ms/step - loss: 0.9296 - accuracy: 0.6785 - val_loss: 0.9439 - val_accuracy: 0.6744\n",
      "Epoch 497/500\n",
      "29/29 [==============================] - 1s 29ms/step - loss: 0.0428 - accuracy: 0.9870 - val_loss: 0.3348 - val_accuracy: 0.9471\n",
      "Epoch 498/500\n",
      "29/29 [==============================] - 1s 30ms/step - loss: 0.0174 - accuracy: 0.9969 - val_loss: 0.3241 - val_accuracy: 0.9485\n",
      "Epoch 499/500\n",
      "29/29 [==============================] - 1s 30ms/step - loss: 0.0127 - accuracy: 0.9984 - val_loss: 0.3286 - val_accuracy: 0.9509\n",
      "Epoch 500/500\n",
      "29/29 [==============================] - 1s 30ms/step - loss: 0.0068 - accuracy: 0.9993 - val_loss: 0.3372 - val_accuracy: 0.9502\n"
     ]
    }
   ],
   "source": [
    "# training the model with training data and using validation to help it learn\n",
    "history_small = model_small.fit(partial_X_train, partial_y_train, epochs=500, batch_size=500, validation_data=(X_val, y_val))"
   ]
  },
  {
   "cell_type": "code",
   "execution_count": 107,
   "metadata": {},
   "outputs": [
    {
     "name": "stdout",
     "output_type": "stream",
     "text": [
      "Epoch 1/500\n",
      "29/29 [==============================] - 2s 41ms/step - loss: 2.1782 - accuracy: 0.1904 - val_loss: 1.9119 - val_accuracy: 0.3260\n",
      
      "29/29 [==============================] - 1s 33ms/step - loss: 0.0039 - accuracy: 0.9995 - val_loss: 0.3936 - val_accuracy: 0.9470\n",
      "Epoch 496/500\n",
      "29/29 [==============================] - 1s 33ms/step - loss: 0.0039 - accuracy: 0.9992 - val_loss: 0.3872 - val_accuracy: 0.9482\n",
      "Epoch 497/500\n",
      "29/29 [==============================] - 1s 33ms/step - loss: 0.0070 - accuracy: 0.9991 - val_loss: 0.4044 - val_accuracy: 0.9463\n",
      "Epoch 498/500\n",
      "29/29 [==============================] - 1s 32ms/step - loss: 0.0080 - accuracy: 0.9977 - val_loss: 0.4003 - val_accuracy: 0.9465\n",
      "Epoch 499/500\n",
      "29/29 [==============================] - 1s 33ms/step - loss: 0.0046 - accuracy: 0.9993 - val_loss: 0.3974 - val_accuracy: 0.9474\n",
      "Epoch 500/500\n",
      "29/29 [==============================] - 1s 33ms/step - loss: 0.0050 - accuracy: 0.9986 - val_loss: 0.4083 - val_accuracy: 0.9487\n"
     ]
    }
   ],
   "source": [
    "history_dropout = model_dropout.fit(partial_X_train, partial_y_train, epochs=500, batch_size=500, validation_data=(X_val, y_val))"
   ]
  },
  {
   "cell_type": "code",
   "execution_count": 119,
   "metadata": {},
   "outputs": [
    {
     "data": {
      "image/png": "[encoded data removed]",
      "text/plain": [
       "<Figure size 432x288 with 1 Axes>"
      ]
     },
     "metadata": {
      "needs_background": "light"
     },
     "output_type": "display_data"
    }
   ],
   "source": [
    "# plotting the validation loss for each of the models\n",
    "loss = history.history['val_loss']\n",
    "loss_small = history_small.history['val_loss']\n",
    "loss_dropout = history_dropout.history['val_loss']\n",
    "epochs = range(1, len(loss) + 1)\n",
    "plt.plot(epochs, loss, '-', label='Validation loss original')\n",
    "plt.plot(epochs, loss_small, '-', label='Validation loss small')\n",
    "plt.plot(epochs, loss_dropout, '-', label='Validation loss dropout')\n",
    "plt.xlabel('Epochs')\n",
    "plt.ylabel('Loss')\n",
    "plt.legend()\n",
    "plt.show()"
   ]
  },
  {
   "cell_type": "code",
   "execution_count": 109,
   "metadata": {},
   "outputs": [
    {
     "data": {
      "image/png": "[encoded data removed]",
      "text/plain": [
       "<Figure size 432x288 with 1 Axes>"
      ]
     },
     "metadata": {
      "needs_background": "light"
     },
     "output_type": "display_data"
    }
   ],
   "source": [
    "# plotting the validation accuracy for each of the models\n",
    "acc = history.history['val_accuracy']\n",
    "acc_dropout = history_dropout.history['val_accuracy']\n",
    "plt.plot(epochs, acc, '-', label='Validation acc original')\n",
    "plt.plot(epochs, acc_dropout, '-', label='Validation acc dropout')\n",
    "plt.xlabel('Epochs')\n",
    "plt.ylabel('Accuracy')\n",
    "plt.legend()\n",
    "plt.show()"
   ]
  },
  {
   "cell_type": "code",
   "execution_count": 110,
   "metadata": {},
   "outputs": [
    {
     "name": "stdout",
     "output_type": "stream",
     "text": [
      "372/372 [==============================] - 1s 3ms/step - loss: 0.3914 - accuracy: 0.9521\n"
     ]
    },
    {
     "data": {
      "text/plain": [
       "[0.39142942428588867, 0.952104389667511]"
      ]
     },
     "execution_count": 110,
     "metadata": {},
     "output_type": "execute_result"
    }
   ],
   "source": [
    "# evaluate model on the test data\n",
    "model_dropout.evaluate(X_test, one_hot_test_labels)"
   ]
  },
  {
   "cell_type": "code",
   "execution_count": 102,
   "metadata": {},
   "outputs": [
    {
     "name": "stdout",
     "output_type": "stream",
     "text": [
      "372/372 [==============================] - 1s 3ms/step - loss: 0.2882 - accuracy: 0.9406\n"
     ]
    },
    {
     "data": {
      "text/plain": [
       "[0.28822749853134155, 0.9405723810195923]"
      ]
     },
     "execution_count": 102,
     "metadata": {},
     "output_type": "execute_result"
    }
   ],
   "source": [
    "model.evaluate(X_test, one_hot_test_labels)"
   ]
  },
  {
   "cell_type": "code",
   "execution_count": 120,
   "metadata": {},
   "outputs": [
    {
     "name": "stdout",
     "output_type": "stream",
     "text": [
      "372/372 [==============================] - 1s 2ms/step - loss: 0.3064 - accuracy: 0.9529\n"
     ]
    },
    {
     "data": {
      "text/plain": [
       "[0.3064301311969757, 0.9528619647026062]"
      ]
     },
     "execution_count": 120,
     "metadata": {},
     "output_type": "execute_result"
    }
   ],
   "source": [
    "model_small.evaluate(X_test, one_hot_test_labels)"
   ]
  },
  {
   "cell_type": "code",
   "execution_count": 123,
   "metadata": {},
   "outputs": [],
   "source": [
    "test_features = test_data[['peak_1', 'peak_2', 'peak_3', 'peak_4', 'peak_5', 'peak_6']]\n",
    "test_labels = test_data[\"codes\"]"
   ]
  },
  {
   "cell_type": "code",
   "execution_count": 124,
   "metadata": {},
   "outputs": [],
   "source": [
    "one_hot_test_labels = to_categorical(test_labels)"
   ]
  },
  {
   "cell_type": "code",
   "execution_count": 125,
   "metadata": {},
   "outputs": [
    {
     "name": "stdout",
     "output_type": "stream",
     "text": [
      "62/62 [==============================] - 0s 3ms/step - loss: 39.2999 - accuracy: 0.0933\n"
     ]
    },
    {
     "data": {
      "text/plain": [
       "[39.29989242553711, 0.09329298883676529]"
      ]
     },
     "execution_count": 125,
     "metadata": {},
     "output_type": "execute_result"
    }
   ],
   "source": [
    "# evaluate model on the mesured xrd peaks\n",
    "model_small.evaluate(test_features, one_hot_test_labels)"
   ]
  },
  {
   "cell_type": "code",
   "execution_count": null,
   "metadata": {},
   "outputs": [],
   "source": []
  }
 ],
 "metadata": {
  "kernelspec": {
   "display_name": "Python 3",
   "language": "python",
   "name": "python3"
  },
  "language_info": {
   "codemirror_mode": {
    "name": "ipython",
    "version": 3
   },
   "file_extension": ".py",
   "mimetype": "text/x-python",
   "name": "python",
   "nbconvert_exporter": "python",
   "pygments_lexer": "ipython3",
   "version": "3.7.4"
  }
 },
 "nbformat": 4,
 "nbformat_minor": 2
}
