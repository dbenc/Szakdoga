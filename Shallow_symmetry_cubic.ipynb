{
 "cells": [
  {
   "cell_type": "code",
   "execution_count": 1,
   "metadata": {},
   "outputs": [],
   "source": [
    "import numpy as np\n",
    "import matplotlib.pyplot as plt\n",
    "import pandas as pd\n",
    "import csv\n",
    "import os, re\n",
    "from sklearn.model_selection import train_test_split, cross_val_score, StratifiedKFold \n",
    "from sklearn.metrics import  accuracy_score\n",
    "from sklearn.neighbors import KNeighborsClassifier\n",
    "from sklearn.naive_bayes import MultinomialNB\n",
    "from sklearn.linear_model import LogisticRegression\n",
    "from sklearn.tree import DecisionTreeClassifier\n",
    "from sklearn.ensemble import RandomForestClassifier\n",
    "from sklearn import metrics, preprocessing, svm\n",
    "from sklearn.utils import shuffle"
   ]
  },
  {
   "cell_type": "code",
   "execution_count": 2,
   "metadata": {},
   "outputs": [],
   "source": [
    "train_df = pd.read_csv('training_dataset_cubic_big.csv', sep='\\t')"
   ]
  },
  {
   "cell_type": "code",
   "execution_count": 3,
   "metadata": {},
   "outputs": [],
   "source": [
    "train_df = train_df.iloc[:,1:]"
   ]
  },
  {
   "cell_type": "code",
   "execution_count": 4,
   "metadata": {},
   "outputs": [],
   "source": [
    "peaks = train_df[[\"peak_1\", \"peak_2\", \"peak_3\", \"peak_4\",\"peak_5\", \"peak_6\", \"peak_7\", \"peak_8\", \"peak_9\", \"peak_10\"]]\n",
    "code = train_df['space_code']"
   ]
  },
  {
   "cell_type": "code",
   "execution_count": 5,
   "metadata": {},
   "outputs": [],
   "source": [
    "training_data = pd.concat([peaks, code], axis=1)"
   ]
  },
  {
   "cell_type": "code",
   "execution_count": 6,
   "metadata": {},
   "outputs": [],
   "source": [
    "training_data = shuffle(training_data)"
   ]
  },
  {
   "cell_type": "code",
   "execution_count": 7,
   "metadata": {},
   "outputs": [],
   "source": [
    "X = training_data.drop([\"space_code\"], axis=1)"
   ]
  },
  {
   "cell_type": "code",
   "execution_count": 8,
   "metadata": {},
   "outputs": [],
   "source": [
    "y = training_data[\"space_code\"]"
   ]
  },
  {
   "cell_type": "code",
   "execution_count": 9,
   "metadata": {},
   "outputs": [],
   "source": [
    "train_data, test_data, train_labels, test_labels = train_test_split(X, \n",
    "                                                    y, \n",
    "                                                    test_size=0.25, \n",
    "                                                    random_state=42)"
   ]
  },
  {
   "cell_type": "code",
   "execution_count": 10,
   "metadata": {},
   "outputs": [],
   "source": [
    "knn = KNeighborsClassifier(n_neighbors=5, metric='euclidean')\n",
    "\n",
    "knn.fit(train_data, train_labels)\n",
    "\n",
    "knn_y_pred = knn.predict(test_data)\n",
    "\n",
    "knn_train_score = accuracy_score(train_labels, knn.predict(train_data))\n",
    "knn_test_score = accuracy_score(test_labels, knn_y_pred)"
   ]
  },
  {
   "cell_type": "code",
   "execution_count": 11,
   "metadata": {},
   "outputs": [
    {
     "name": "stderr",
     "output_type": "stream",
     "text": [
      "C:\\Users\\dajka\\Anaconda3\\lib\\site-packages\\sklearn\\linear_model\\_logistic.py:765: ConvergenceWarning: lbfgs failed to converge (status=1):\n",
      "STOP: TOTAL NO. of ITERATIONS REACHED LIMIT.\n",
      "\n",
      
      "Increase the number of iterations (max_iter) or scale the data as shown in:\n",
      "    https://scikit-learn.org/stable/modules/preprocessing.html\n",
      "Please also refer to the documentation for alternative solver options:\n",
      "    https://scikit-learn.org/stable/modules/linear_model.html#logistic-regression\n",
      "  extra_warning_msg=_LOGISTIC_SOLVER_CONVERGENCE_MSG)\n"
     ]
    }
   ],
   "source": [
    "log =  LogisticRegression()\n",
    "\n",
    "log.fit(train_data, train_labels)\n",
    "\n",
    "log_y_pred = log.predict(test_data)\n",
    "\n",
    "logreg_train_score = accuracy_score(train_labels, log.predict(train_data))\n",
    "logreg_test_score = accuracy_score(test_labels, log_y_pred)"
   ]
  },
  {
   "cell_type": "code",
   "execution_count": 12,
   "metadata": {},
   "outputs": [],
   "source": [
    "tree = DecisionTreeClassifier()\n",
    "\n",
    "tree.fit(train_data, train_labels)\n",
    "\n",
    "tree_y_pred = tree.predict(test_data)\n",
    "\n",
    "tree_train_score = accuracy_score(train_labels, tree.predict(train_data))\n",
    "tree_test_score = accuracy_score(test_labels, tree_y_pred)"
   ]
  },
  {
   "cell_type": "code",
   "execution_count": 13,
   "metadata": {},
   "outputs": [],
   "source": [
    "Svm = svm.SVC()\n",
    "\n",
    "Svm.fit(train_data, train_labels)\n",
    "\n",
    "svm_y_pred = Svm.predict(test_data)\n",
    "\n",
    "svm_train_score = accuracy_score(train_labels, Svm.predict(train_data))\n",
    "svm_test_score = accuracy_score(test_labels, svm_y_pred)"
   ]
  },
  {
   "cell_type": "code",
   "execution_count": 14,
   "metadata": {},
   "outputs": [],
   "source": [
    "clf = RandomForestClassifier(max_depth=11, random_state=0)\n",
    "\n",
    "clf.fit(train_data, train_labels)\n",
    "\n",
    "clf_y_pred = clf.predict(test_data)\n",
    "\n",
    "clf_train_score = accuracy_score(train_labels, clf.predict(train_data))\n",
    "clf_test_score = accuracy_score(test_labels, clf_y_pred)"
   ]
  },
  {
   "cell_type": "code",
   "execution_count": 15,
   "metadata": {},
   "outputs": [],
   "source": [
    "train_scores = clf_train_score, svm_train_score, tree_train_score, logreg_train_score, knn_train_score\n",
    "test_scores = clf_test_score, svm_test_score, tree_test_score, logreg_test_score, knn_test_score\n",
    "methods = [\"Random Forest Classifier\", \"Support Vector Machine\", \"Decision Tree Classifier\", \"Logistic Regression\", \"K Neighbors Classifier\"]\n",
    "\n",
    "shallow = pd.DataFrame(index=methods)\n",
    "\n",
    "shallow[\"Accuracy on traning data\"] = train_scores\n",
    "shallow[\"Accuracy on testing data\"] = test_scores\n"
   ]
  },
  {
   "cell_type": "code",
   "execution_count": 16,
   "metadata": {},
   "outputs": [
    {
     "data": {
      "text/html": [
       "<div>\n",
       "<style scoped>\n",
       "    .dataframe tbody tr th:only-of-type {\n",
       "        vertical-align: middle;\n",
       "    }\n",
       "\n",
       "    .dataframe tbody tr th {\n",
       "        vertical-align: top;\n",
       "    }\n",
       "\n",
       "    .dataframe thead th {\n",
       "        text-align: right;\n",
       "    }\n",
       "</style>\n",
       "<table border=\"1\" class=\"dataframe\">\n",
       "  <thead>\n",
       "    <tr style=\"text-align: right;\">\n",
       "      <th></th>\n",
       "      <th>Accuracy on traning data</th>\n",
       "      <th>Accuracy on testing data</th>\n",
       "    </tr>\n",
       "  </thead>\n",
       "  <tbody>\n",
       "    <tr>\n",
       "      <th>Random Forest Classifier</th>\n",
       "      <td>1.0</td>\n",
       "      <td>1.0</td>\n",
       "    </tr>\n",
       "    <tr>\n",
       "      <th>Support Vector Machine</th>\n",
       "      <td>1.0</td>\n",
       "      <td>1.0</td>\n",
       "    </tr>\n",
       "    <tr>\n",
       "      <th>Decision Tree Classifier</th>\n",
       "      <td>1.0</td>\n",
       "      <td>1.0</td>\n",
       "    </tr>\n",
       "    <tr>\n",
       "      <th>Logistic Regression</th>\n",
       "      <td>1.0</td>\n",
       "      <td>1.0</td>\n",
       "    </tr>\n",
       "    <tr>\n",
       "      <th>K Neighbors Classifier</th>\n",
       "      <td>1.0</td>\n",
       "      <td>1.0</td>\n",
       "    </tr>\n",
       "  </tbody>\n",
       "</table>\n",
       "</div>"
      ],
      "text/plain": [
       "                          Accuracy on traning data  Accuracy on testing data\n",
       "Random Forest Classifier                       1.0                       1.0\n",
       "Support Vector Machine                         1.0                       1.0\n",
       "Decision Tree Classifier                       1.0                       1.0\n",
       "Logistic Regression                            1.0                       1.0\n",
       "K Neighbors Classifier                         1.0                       1.0"
      ]
     },
     "execution_count": 16,
     "metadata": {},
     "output_type": "execute_result"
    }
   ],
   "source": [
    "shallow"
   ]
  },
  {
   "cell_type": "code",
   "execution_count": 17,
   "metadata": {},
   "outputs": [],
   "source": [
    "test_df = pd.read_csv('test_dataset_cubic.csv', sep='\\t')"
   ]
  },
  {
   "cell_type": "code",
   "execution_count": 18,
   "metadata": {},
   "outputs": [],
   "source": [
    "peaks_test = test_df[[\"peak_1\", \"peak_2\", \"peak_3\", \"peak_4\",\"peak_5\", \"peak_6\", \"peak_7\", \"peak_8\", \"peak_9\", \"peak_10\"]]\n",
    "codes_test = test_df['space_code']"
   ]
  },
  {
   "cell_type": "code",
   "execution_count": 19,
   "metadata": {},
   "outputs": [],
   "source": [
    "test_data = pd.concat([peaks_test, codes_test], axis=1)"
   ]
  },
  {
   "cell_type": "code",
   "execution_count": 20,
   "metadata": {},
   "outputs": [],
   "source": [
    "X_test = test_data.drop([\"space_code\"], axis=1)"
   ]
  },
  {
   "cell_type": "code",
   "execution_count": 21,
   "metadata": {},
   "outputs": [],
   "source": [
    "y_test = codes_test"
   ]
  },
  {
   "cell_type": "code",
   "execution_count": 22,
   "metadata": {},
   "outputs": [],
   "source": [
    "clf_y_pred_mesured_test = clf.predict(X_test)\n",
    "\n",
    "clf_test_mesured_score = accuracy_score(y_test, clf_y_pred_mesured_test)"
   ]
  },
  {
   "cell_type": "code",
   "execution_count": 23,
   "metadata": {},
   "outputs": [],
   "source": [
    "knn_y_pred_mesured_test = knn.predict(X_test)\n",
    "\n",
    "knn_test_mesured_score = accuracy_score(y_test, knn_y_pred_mesured_test)"
   ]
  },
  {
   "cell_type": "code",
   "execution_count": 24,
   "metadata": {},
   "outputs": [],
   "source": [
    "tree_y_pred_mesured_test = tree.predict(X_test)\n",
    "\n",
    "tree_test_mesured_score = accuracy_score(y_test, tree_y_pred_mesured_test)"
   ]
  },
  {
   "cell_type": "code",
   "execution_count": 25,
   "metadata": {},
   "outputs": [],
   "source": [
    "svm_y_pred_mesured_test = Svm.predict(X_test)\n",
    "\n",
    "svm_test_mesured_score = accuracy_score(y_test, svm_y_pred_mesured_test)"
   ]
  },
  {
   "cell_type": "code",
   "execution_count": 26,
   "metadata": {},
   "outputs": [],
   "source": [
    "log_y_pred_mesured_test = log.predict(X_test)\n",
    "\n",
    "log_test_mesured_score = accuracy_score(y_test, log_y_pred_mesured_test)"
   ]
  },
  {
   "cell_type": "code",
   "execution_count": 27,
   "metadata": {},
   "outputs": [],
   "source": [
    "mesured_scores = [clf_test_mesured_score, tree_test_mesured_score, knn_test_mesured_score, svm_test_mesured_score, log_test_mesured_score]\n",
    "\n",
    "methods = [\"Random Forest Classifier\", \"Decision Tree Classifier\", \"K Neighbors Classifier\", \"Support Vector Machine\", \"Logistic Regression\"]\n",
    "\n",
    "shallow_mesured = pd.DataFrame(index=methods)\n",
    "\n",
    "shallow_mesured[\"Accuracy on mesured test data\"] = mesured_scores"
   ]
  },
  {
   "cell_type": "code",
   "execution_count": 28,
   "metadata": {},
   "outputs": [
    {
     "data": {
      "text/html": [
       "<div>\n",
       "<style scoped>\n",
       "    .dataframe tbody tr th:only-of-type {\n",
       "        vertical-align: middle;\n",
       "    }\n",
       "\n",
       "    .dataframe tbody tr th {\n",
       "        vertical-align: top;\n",
       "    }\n",
       "\n",
       "    .dataframe thead th {\n",
       "        text-align: right;\n",
       "    }\n",
       "</style>\n",
       "<table border=\"1\" class=\"dataframe\">\n",
       "  <thead>\n",
       "    <tr style=\"text-align: right;\">\n",
       "      <th></th>\n",
       "      <th>Accuracy on mesured test data</th>\n",
       "    </tr>\n",
       "  </thead>\n",
       "  <tbody>\n",
       "    <tr>\n",
       "      <th>Random Forest Classifier</th>\n",
       "      <td>0.650</td>\n",
       "    </tr>\n",
       "    <tr>\n",
       "      <th>Decision Tree Classifier</th>\n",
       "      <td>0.825</td>\n",
       "    </tr>\n",
       "    <tr>\n",
       "      <th>K Neighbors Classifier</th>\n",
       "      <td>0.950</td>\n",
       "    </tr>\n",
       "    <tr>\n",
       "      <th>Support Vector Machine</th>\n",
       "      <td>1.000</td>\n",
       "    </tr>\n",
       "    <tr>\n",
       "      <th>Logistic Regression</th>\n",
       "      <td>0.975</td>\n",
       "    </tr>\n",
       "  </tbody>\n",
       "</table>\n",
       "</div>"
      ],
      "text/plain": [
       "                          Accuracy on mesured test data\n",
       "Random Forest Classifier                          0.650\n",
       "Decision Tree Classifier                          0.825\n",
       "K Neighbors Classifier                            0.950\n",
       "Support Vector Machine                            1.000\n",
       "Logistic Regression                               0.975"
      ]
     },
     "execution_count": 28,
     "metadata": {},
     "output_type": "execute_result"
    }
   ],
   "source": [
    "shallow_mesured"
   ]
  },
  {
   "cell_type": "code",
   "execution_count": null,
   "metadata": {},
   "outputs": [],
   "source": []
  }
 ],
 "metadata": {
  "kernelspec": {
   "display_name": "Python 3",
   "language": "python",
   "name": "python3"
  },
  "language_info": {
   "codemirror_mode": {
    "name": "ipython",
    "version": 3
   },
   "file_extension": ".py",
   "mimetype": "text/x-python",
   "name": "python",
   "nbconvert_exporter": "python",
   "pygments_lexer": "ipython3",
   "version": "3.7.4"
  }
 },
 "nbformat": 4,
 "nbformat_minor": 2
}
