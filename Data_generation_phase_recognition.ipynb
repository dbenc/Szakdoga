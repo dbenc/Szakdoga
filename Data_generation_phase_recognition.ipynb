{
 "cells": [
  {
   "cell_type": "code",
   "execution_count": 1,
   "metadata": {},
   "outputs": [],
   "source": [
    "import numpy as np\n",
    "import matplotlib.pyplot as plt\n",
    "import pandas as pd\n",
    "import os, re\n",
    "import csv"
   ]
  },
  {
   "cell_type": "code",
   "execution_count": 2,
   "metadata": {},
   "outputs": [],
   "source": [
    "Path = r\"C:\\Users\\dajka\\Documents\\Egyetem\\szakdog\\Training data\\Al-Mg/\"\n",
    "filelist = os.listdir(r\"C:\\Users\\dajka\\Documents\\Egyetem\\szakdog\\Training data\\Al-Mg\")"
   ]
  },
  {
   "cell_type": "code",
   "execution_count": 3,
   "metadata": {},
   "outputs": [],
   "source": [
    "t_li = []\n",
    "for i in filelist:\n",
    "    t_df = pd.read_csv(Path + i, skiprows=[0], sep='\\s+', names=[\"h\", \"k\", \"l\", 'd_spacing',\n",
    "            \"F(real)\", \"F(imag)\", \"|F|\", '2theta', 'I', 'M'])         \n",
    "    t_df = t_df[~t_df[\"2theta\"].str.contains('[A-Za-z]')]\n",
    "    t_df = t_df[~t_df[\"I\"].str.contains('[A-Za-z]')]\n",
    "    t_df['d_spacing'] = t_df['d_spacing'].astype(float)\n",
    "    t_df['I'] = t_df['I'].astype(float)\n",
    "    t_df['2theta'] = t_df['2theta'].astype(float)\n",
    "    t_df['h'] = t_df['h'].astype(float)\n",
    "    t_df['k'] = t_df['k'].astype(float)\n",
    "    t_df['l'] = t_df['l'].astype(float)\n",
    "    t_powder_data = [t_df['2theta'], t_df['d_spacing'], t_df['I'], t_df['h'],  t_df['k'], t_df['l']]\n",
    "    t_powder_df = pd.concat(t_powder_data, axis=1)\n",
    "    t_powder_df['name'] = i.split('_')[0]\n",
    "    t_li.append(t_powder_df)"
   ]
  },
  {
   "cell_type": "code",
   "execution_count": 4,
   "metadata": {},
   "outputs": [],
   "source": [
    "peak_1 = []\n",
    "peak_2 = []\n",
    "peak_3 = []\n",
    "peak_4 = []\n",
    "peak_5= []\n",
    "peak_6= []\n",
    "peak_7 = []\n",
    "peak_8 = []\n",
    "names = []\n",
    "\n",
    "\n",
    "for data in t_li:\n",
    "    try:\n",
    "        peak_8.append((1/data['d_spacing'][7])*10)\n",
    "        peak_7.append((1/data['d_spacing'][6])*10)\n",
    "        peak_6.append((1/data['d_spacing'][5])*10)\n",
    "        peak_5.append((1/data['d_spacing'][4])*10)\n",
    "        peak_4.append((1/data['d_spacing'][3])*10)\n",
    "        peak_3.append((1/data['d_spacing'][2])*10)\n",
    "        peak_2.append((1/data['d_spacing'][1])*10)\n",
    "        peak_1.append((1/data['d_spacing'][0])*10)\n",
    "        names.append(data.iloc[0][\"name\"])\n",
    "    except:\n",
    "        pass"
   ]
  },
  {
   "cell_type": "code",
   "execution_count": 5,
   "metadata": {},
   "outputs": [],
   "source": [
    "train_df = pd.DataFrame()\n",
    "\n",
    "train_df['peak_8'] = peak_8\n",
    "train_df['peak_7'] = peak_7\n",
    "train_df['peak_6'] = peak_6\n",
    "train_df['peak_5'] = peak_5\n",
    "train_df['peak_4'] = peak_4\n",
    "train_df['peak_3'] = peak_3\n",
    "train_df['peak_2'] = peak_2\n",
    "train_df['peak_1'] = peak_1\n",
    "train_df['names'] = names"
   ]
  },
  {
   "cell_type": "code",
   "execution_count": 6,
   "metadata": {},
   "outputs": [],
   "source": [
    "train_df.loc[train_df[\"names\"] == \"Aluminum\", \"names\"] = \"Aluminium\""
   ]
  },
  {
   "cell_type": "code",
   "execution_count": 7,
   "metadata": {},
   "outputs": [],
   "source": [
    "new_train = train_df.iloc[:, ::-1]"
   ]
  },
  {
   "cell_type": "code",
   "execution_count": 8,
   "metadata": {},
   "outputs": [],
   "source": [
    "new_train.to_csv(\"phase_training.csv\", sep='\\t', index=False)"
   ]
  },
  {
   "cell_type": "code",
   "execution_count": 9,
   "metadata": {},
   "outputs": [],
   "source": [
    "al1_df = pd.read_csv(r\"C:\\Users\\dajka\\Documents\\Egyetem\\szakdog\\CMWP-samples-Tamastol\\Al/2019-12-11_Auto-Al-1350-Wire_Low.ph0.K-hkl.dat\", sep='\\s+', names=[\"K\", \"hkl\"])\n",
    "al3_df = pd.read_csv(r\"C:\\Users\\dajka\\Documents\\Egyetem\\szakdog\\CMWP-samples-Tamastol\\Al2/2pw1.ph0.K-hkl.dat\", sep='\\s+', names=[\"K\", \"hkl\"])\n",
    "fe2_df = pd.read_csv(r\"C:\\Users\\dajka\\Documents\\Egyetem\\szakdog\\CMWP-samples-Tamastol\\Fe1/2tCMWP_20.gda-bank1.ph0.K-hkl.dat\", sep='\\s+', names=[\"K\", \"hkl\"])\n",
    "ti1_df = pd.read_csv(r\"C:\\Users\\dajka\\Documents\\Egyetem\\szakdog\\CMWP-samples-Tamastol\\Ti/07-24-2019_Ti-Zr-4-Pass_XRD.ph0.K-hkl.dat\", sep='\\s+', names=[\"K\", \"hkl\"])\n",
    "ti2_df = pd.read_csv(r\"C:\\Users\\dajka\\Documents\\Egyetem\\szakdog\\CMWP-samples-Tamastol\\Ti2/UFG-CP-Ti-S1.ph0.K-hkl.dat\", sep='\\s+', names=[\"K\", \"hkl\"])\n",
    "ti3_df = pd.read_csv(r\"C:\\Users\\dajka\\Documents\\Egyetem\\szakdog\\CMWP-samples-Tamastol\\Ti3/Ti_pure_initial_state_cmwp.ph0.K-hkl.dat\", sep='\\s+', names=[\"K\", \"hkl\"])\n",
    "zr1_df = pd.read_csv(r\"C:\\Users\\dajka\\Documents\\Egyetem\\szakdog\\CMWP-samples-Tamastol\\Zr/Q2-H0-Axial-T2.ph0.K-hkl.dat\", sep='\\s+', names=[\"K\", \"hkl\"])\n",
    "zr2_df = pd.read_csv(r\"C:\\Users\\dajka\\Documents\\Egyetem\\szakdog\\CMWP-samples-Tamastol\\Zr2/Q8-H0-Axial-T2.ph0.K-hkl.dat\", sep='\\s+', names=[\"K\", \"hkl\"])"
   ]
  },
  {
   "cell_type": "code",
   "execution_count": 10,
   "metadata": {},
   "outputs": [],
   "source": [
    "name = [\"Aluminium\", \"Aluminium\", \"Iron\", \"Titanium\", \"Titanium\", \"Titanium\", \"Zirconium\", \"Zirconium\"]"
   ]
  },
  {
   "cell_type": "code",
   "execution_count": 11,
   "metadata": {},
   "outputs": [],
   "source": [
    "test_data = [al1_df, al3_df, fe2_df, ti1_df, ti2_df, ti3_df, zr1_df, zr2_df]\n",
    "test_df = pd.DataFrame()\n",
    "\n",
    "for i in range(len(test_data)):\n",
    "    new_df = test_data[i].iloc[:8].drop([\"hkl\"], axis=1).T\n",
    "    new_df[\"name\"] = name[i]\n",
    "    new_df =new_df.reset_index(drop=True)\n",
    "    test_df = test_df.append(new_df)\n"
   ]
  },
  {
   "cell_type": "code",
   "execution_count": 12,
   "metadata": {},
   "outputs": [],
   "source": [
    "test_df.to_csv(\"phase_test.csv\", sep='\\t', index=False)"
   ]
  },
  {
   "cell_type": "code",
   "execution_count": null,
   "metadata": {},
   "outputs": [],
   "source": []
  }
 ],
 "metadata": {
  "celltoolbar": "Raw Cell Format",
  "kernelspec": {
   "display_name": "Python 3",
   "language": "python",
   "name": "python3"
  },
  "language_info": {
   "codemirror_mode": {
    "name": "ipython",
    "version": 3
   },
   "file_extension": ".py",
   "mimetype": "text/x-python",
   "name": "python",
   "nbconvert_exporter": "python",
   "pygments_lexer": "ipython3",
   "version": "3.7.4"
  }
 },
 "nbformat": 4,
 "nbformat_minor": 2
}
