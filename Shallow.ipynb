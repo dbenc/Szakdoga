{
 "cells": [
  {
   "cell_type": "code",
   "execution_count": 16,
   "metadata": {},
   "outputs": [],
   "source": [
    "import numpy as np\n",
    "import matplotlib.pyplot as plt\n",
    "import pandas as pd\n",
    "import csv\n",
    "import os, re\n",
    "from sklearn.model_selection import train_test_split, cross_val_score, StratifiedKFold \n",
    "from sklearn.metrics import  accuracy_score\n",
    "from sklearn.neighbors import KNeighborsClassifier\n",
    "from sklearn.naive_bayes import MultinomialNB\n",
    "from sklearn.linear_model import LogisticRegression\n",
    "from sklearn.tree import DecisionTreeClassifier\n",
    "from sklearn.ensemble import RandomForestClassifier\n",
    "from sklearn import metrics, preprocessing, svm"
   ]
  },
  {
   "cell_type": "code",
   "execution_count": 29,
   "metadata": {},
   "outputs": [],
   "source": [
    "train_df = pd.read_csv('large.csv', sep='\\t')\n",
    "test_df = pd.read_csv('test.csv', sep='\\t')"
   ]
  },
  {
   "cell_type": "code",
   "execution_count": 18,
   "metadata": {},
   
   "outputs": [],
   "source": [
    "X = train_df[['peak_1', 'h_1', 'k_1', 'l_1', 'peak_2', 'h_2', 'k_2', 'l_2', 'peak_3', 'h_3', 'k_3', 'l_3', 'peak_4', 'h_4', 'k_4', 'l_4', 'peak_5', 'h_5', 'k_5', 'l_5', 'peak_6', 'h_6', 'k_6', 'l_6']]"
   ]
  },
  {
   "cell_type": "code",
   "execution_count": 19,
   "metadata": {},
   "outputs": [],
   "source": [
    "train_data, test_data, train_labels, test_labels = train_test_split(X, \n",
    "                                                    train_df['space_code'], \n",
    "                                                    test_size=0.25, \n",
    "                                                    random_state=42)"
   ]
  },
  {
   "cell_type": "code",
   "execution_count": 20,
   "metadata": {},
   "outputs": [],
   "source": [
    "knn = KNeighborsClassifier(n_neighbors=5, metric='euclidean')\n",
    "\n",
    "knn.fit(train_data, train_labels)\n",
    "\n",
    "knn_y_pred = knn.predict(test_data)\n",
    "\n",
    "knn_train_score = accuracy_score(train_labels, knn.predict(train_data))\n",
    "knn_test_score = accuracy_score(test_labels, knn_y_pred)"
   ]
  },
  {
   "cell_type": "code",
   "execution_count": null,
   "metadata": {},
   "outputs": [],
   "source": [
    "log =  LogisticRegression()\n",
    "\n",
    "log.fit(train_data, train_labels)\n",
    "\n",
    "log_y_pred = log.predict(test_data)\n",
    "\n",
    "logreg_train_score = accuracy_score(train_labels, log.predict(train_data))\n",
    "logreg_test_score = accuracy_score(test_labels, log_y_pred)"
   ]
  },
  {
   "cell_type": "code",
   "execution_count": 22,
   "metadata": {},
   "outputs": [],
   "source": [
    "tree = DecisionTreeClassifier()\n",
    "\n",
    "tree.fit(train_data, train_labels)\n",
    "\n",
    "tree_y_pred = tree.predict(test_data)\n",
    "\n",
    "tree_train_score = accuracy_score(train_labels, tree.predict(train_data))\n",
    "tree_test_score = accuracy_score(test_labels, tree_y_pred)"
   ]
  },
  {
   "cell_type": "code",
   "execution_count": 23,
   "metadata": {},
   "outputs": [],
   "source": [
    "Svm = svm.SVC()\n",
    "\n",
    "Svm.fit(train_data, train_labels)\n",
    "\n",
    "svm_y_pred = Svm.predict(test_data)\n",
    "\n",
    "svm_train_score = accuracy_score(train_labels, Svm.predict(train_data))\n",
    "svm_test_score = accuracy_score(test_labels, svm_y_pred)"
   ]
  },
  {
   "cell_type": "code",
   "execution_count": 24,
   "metadata": {},
   "outputs": [],
   "source": [
    "clf = RandomForestClassifier(max_depth=11, random_state=0)\n",
    "\n",
    "clf.fit(train_data, train_labels)\n",
    "\n",
    "clf_y_pred = clf.predict(test_data)\n",
    "\n",
    "clf_train_score = accuracy_score(train_labels, clf.predict(train_data))\n",
    "clf_test_score = accuracy_score(test_labels, clf_y_pred)"
   ]
  },
  {
   "cell_type": "code",
   "execution_count": 25,
   "metadata": {},
   "outputs": [],
   "source": [
    "train_scores = clf_train_score, svm_train_score, tree_train_score, logreg_train_score, knn_train_score\n",
    "test_scores = clf_test_score, svm_test_score, tree_test_score, logreg_test_score, knn_test_score\n",
    "methods = [\"Random Forest Classifier\", \"Support Vector Machine\", \"Decision Tree Classifier\", \"Logistic Regression\", \"K Neighbors Classifier\"]\n",
    "\n",
    "shallow = pd.DataFrame(index=methods)\n",
    "\n",
    "shallow[\"Accuracy on traning data\"] = train_scores\n",
    "shallow[\"Accuracy on testing data\"] = test_scores\n"
   ]
  },
  {
   "cell_type": "code",
   "execution_count": 26,
   "metadata": {},
   "outputs": [
    {
     "data": {
      "text/html": [
       "<div>\n",
       "<style scoped>\n",
       "    .dataframe tbody tr th:only-of-type {\n",
       "        vertical-align: middle;\n",
       "    }\n",
       "\n",
       "    .dataframe tbody tr th {\n",
       "        vertical-align: top;\n",
       "    }\n",
       "\n",
       "    .dataframe thead th {\n",
       "        text-align: right;\n",
       "    }\n",
       "</style>\n",
       "<table border=\"1\" class=\"dataframe\">\n",
       "  <thead>\n",
       "    <tr style=\"text-align: right;\">\n",
       "      <th></th>\n",
       "      <th>Accuracy on traning data</th>\n",
       "      <th>Accuracy on testing data</th>\n",
       "    </tr>\n",
       "  </thead>\n",
       "  <tbody>\n",
       "    <tr>\n",
       "      <th>Random Forest Classifier</th>\n",
       "      <td>0.963130</td>\n",
       "      <td>0.888817</td>\n",
       "    </tr>\n",
       "    <tr>\n",
       "      <th>Support Vector Machine</th>\n",
       "      <td>0.269239</td>\n",
       "      <td>0.284704</td>\n",
       "    </tr>\n",
       "    <tr>\n",
       "      <th>Decision Tree Classifier</th>\n",
       "      <td>1.000000</td>\n",
       "      <td>0.825193</td>\n",
       "    </tr>\n",
       "    <tr>\n",
       "      <th>Logistic Regression</th>\n",
       "      <td>0.269239</td>\n",
       "      <td>0.284704</td>\n",
       "    </tr>\n",
       "    <tr>\n",
       "      <th>K Neighbors Classifier</th>\n",
       "      <td>0.849303</td>\n",
       "      <td>0.781491</td>\n",
       "    </tr>\n",
       "  </tbody>\n",
       "</table>\n",
       "</div>"
      ],
      "text/plain": [
       "                          Accuracy on traning data  Accuracy on testing data\n",
       "Random Forest Classifier                  0.963130                  0.888817\n",
       "Support Vector Machine                    0.269239                  0.284704\n",
       "Decision Tree Classifier                  1.000000                  0.825193\n",
       "Logistic Regression                       0.269239                  0.284704\n",
       "K Neighbors Classifier                    0.849303                  0.781491"
      ]
     },
     "execution_count": 26,
     "metadata": {},
     "output_type": "execute_result"
    }
   ],
   "source": [
    "shallow"
   ]
  },
  {
   "cell_type": "code",
   "execution_count": 30,
   "metadata": {},
   "outputs": [],
   "source": [
    "X_test = test_df[['peak_1', 'h_1', 'k_1', 'l_1', 'peak_2', 'h_2', 'k_2', 'l_2', 'peak_3', 'h_3', 'k_3', 'l_3', 'peak_4', 'h_4', 'k_4', 'l_4', 'peak_5', 'h_5', 'k_5', 'l_5', 'peak_6', 'h_6', 'k_6', 'l_6']]\n",
    "y_test = test_df['space_code']"
   ]
  },
  {
   "cell_type": "code",
   "execution_count": 34,
   "metadata": {},
   "outputs": [],
   "source": [
    "clf_y_pred_mesured_test = clf.predict(X_test)\n",
    "\n",
    "clf_test_mesured_score = accuracy_score(y_test, clf_y_pred_test)"
   ]
  },
  {
   "cell_type": "code",
   "execution_count": 35,
   "metadata": {},
   "outputs": [],
   "source": [
    "knn_y_pred_mesured_test = knn.predict(X_test)\n",
    "\n",
    "knn_test_mesured_score = accuracy_score(y_test, knn_y_pred_test)"
   ]
  },
  {
   "cell_type": "code",
   "execution_count": 36,
   "metadata": {},
   "outputs": [],
   "source": [
    "tree_y_pred_mesured_test = tree.predict(X_test)\n",
    "\n",
    "tree_test_mesured_score = accuracy_score(y_test, tree_y_pred_test)"
   ]
  },
  {
   "cell_type": "code",
   "execution_count": 37,
   "metadata": {},
   "outputs": [],
   "source": [
    "mesured_scores = [clf_test_mesured_score, tree_test_mesured_score, knn_test_mesured_score]\n",
    "\n",
    "methods = [\"Random Forest Classifier\", \"Decision Tree Classifier\", \"K Neighbors Classifier\"]\n",
    "\n",
    "shallow_mesured = pd.DataFrame(index=methods)\n",
    "\n",
    "shallow_mesured[\"Accuracy on mesured test data\"] = mesured_scores"
   ]
  },
  {
   "cell_type": "code",
   "execution_count": 38,
   "metadata": {},
   "outputs": [
    {
     "data": {
      "text/html": [
       "<div>\n",
       "<style scoped>\n",
       "    .dataframe tbody tr th:only-of-type {\n",
       "        vertical-align: middle;\n",
       "    }\n",
       "\n",
       "    .dataframe tbody tr th {\n",
       "        vertical-align: top;\n",
       "    }\n",
       "\n",
       "    .dataframe thead th {\n",
       "        text-align: right;\n",
       "    }\n",
       "</style>\n",
       "<table border=\"1\" class=\"dataframe\">\n",
       "  <thead>\n",
       "    <tr style=\"text-align: right;\">\n",
       "      <th></th>\n",
       "      <th>Accuracy on mesured test data</th>\n",
       "    </tr>\n",
       "  </thead>\n",
       "  <tbody>\n",
       "    <tr>\n",
       "      <th>Random Forest Classifier</th>\n",
       "      <td>0.584955</td>\n",
       "    </tr>\n",
       "    <tr>\n",
       "      <th>Decision Tree Classifier</th>\n",
       "      <td>0.559014</td>\n",
       "    </tr>\n",
       "    <tr>\n",
       "      <th>K Neighbors Classifier</th>\n",
       "      <td>0.450065</td>\n",
       "    </tr>\n",
       "  </tbody>\n",
       "</table>\n",
       "</div>"
      ],
      "text/plain": [
       "                          Accuracy on mesured test data\n",
       "Random Forest Classifier                       0.584955\n",
       "Decision Tree Classifier                       0.559014\n",
       "K Neighbors Classifier                         0.450065"
      ]
     },
     "execution_count": 38,
     "metadata": {},
     "output_type": "execute_result"
    }
   ],
   "source": [
    "shallow_mesured"
   ]
  },
  {
   "cell_type": "code",
   "execution_count": null,
   "metadata": {},
   "outputs": [],
   "source": []
  }
 ],
 "metadata": {
  "kernelspec": {
   "display_name": "Python 3",
   "language": "python",
   "name": "python3"
  },
  "language_info": {
   "codemirror_mode": {
    "name": "ipython",
    "version": 3
   },
   "file_extension": ".py",
   "mimetype": "text/x-python",
   "name": "python",
   "nbconvert_exporter": "python",
   "pygments_lexer": "ipython3",
   "version": "3.7.4"
  }
 },
 "nbformat": 4,
 "nbformat_minor": 2
}
